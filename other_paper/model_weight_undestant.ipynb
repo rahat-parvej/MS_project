{
 "cells": [
  {
   "cell_type": "code",
   "execution_count": 4,
   "metadata": {},
   "outputs": [],
   "source": [
    "from tensorflow.keras.models import load_model, clone_model\n",
    "import numpy as np"
   ]
  },
  {
   "cell_type": "code",
   "execution_count": 20,
   "metadata": {},
   "outputs": [],
   "source": [
    "model_paths = [\"model/client_model{}.h5\".format(i) for i in range(10)]\n",
    "models = [load_model(model_path) for model_path in model_paths]"
   ]
  },
  {
   "cell_type": "code",
   "execution_count": 3,
   "metadata": {},
   "outputs": [],
   "source": [
    "model1=load_model(\"model/client_model5.h5\")\n",
    "model2=load_model(\"model/client_model3.h5\")\n",
    "model3=load_model(\"model/client_model9.h5\")\n",
    "model4=load_model(\"model/client_model4.h5\")\n",
    "model5=load_model(\"model/client_model0.h5\")"
   ]
  },
  {
   "cell_type": "code",
   "execution_count": null,
   "metadata": {},
   "outputs": [],
   "source": [
    "len(model1.get_weights())"
   ]
  },
  {
   "cell_type": "code",
   "execution_count": null,
   "metadata": {},
   "outputs": [],
   "source": [
    "model1.layers"
   ]
  },
  {
   "cell_type": "code",
   "execution_count": null,
   "metadata": {},
   "outputs": [],
   "source": [
    "len(model1.layers)"
   ]
  },
  {
   "cell_type": "code",
   "execution_count": null,
   "metadata": {},
   "outputs": [],
   "source": [
    "model1.layers[1].get_weights()"
   ]
  },
  {
   "cell_type": "code",
   "execution_count": null,
   "metadata": {},
   "outputs": [],
   "source": [
    "model1.get_weights()"
   ]
  },
  {
   "cell_type": "code",
   "execution_count": null,
   "metadata": {},
   "outputs": [],
   "source": [
    "model2.get_weights()"
   ]
  },
  {
   "cell_type": "code",
   "execution_count": null,
   "metadata": {},
   "outputs": [],
   "source": [
    "from tensorflow.keras.layers import Conv1D,BatchNormalization,LeakyReLU,MaxPool1D,\\\n",
    "GlobalAveragePooling1D,Dense,Dropout,AveragePooling1D\n",
    "from tensorflow.keras.models import Sequential\n",
    "from tensorflow.keras.backend import clear_session"
   ]
  },
  {
   "cell_type": "code",
   "execution_count": null,
   "metadata": {},
   "outputs": [],
   "source": [
    "def cnnmodel():\n",
    "    clear_session()\n",
    "    model=Sequential()\n",
    "    model.add(Conv1D(filters=5,kernel_size=3,strides=1,input_shape=(3840,19)))#1\n",
    "    model.add(BatchNormalization())\n",
    "    model.add(LeakyReLU())\n",
    "    model.add(MaxPool1D(pool_size=2,strides=2))#2\n",
    "    model.add(Conv1D(filters=5,kernel_size=3,strides=1))#3\n",
    "    model.add(LeakyReLU())\n",
    "    model.add(MaxPool1D(pool_size=2,strides=2))#4\n",
    "    model.add(Dropout(0.5))\n",
    "    model.add(Conv1D(filters=5,kernel_size=3,strides=1))#5\n",
    "    model.add(LeakyReLU())\n",
    "    model.add(AveragePooling1D(pool_size=2,strides=2))#6\n",
    "    model.add(Dropout(0.5))\n",
    "    model.add(Conv1D(filters=5,kernel_size=3,strides=1))#7\n",
    "    model.add(LeakyReLU())\n",
    "    model.add(AveragePooling1D(pool_size=2,strides=2))#8\n",
    "    model.add(Conv1D(filters=5,kernel_size=3,strides=1))#9\n",
    "    model.add(LeakyReLU())\n",
    "    model.add(GlobalAveragePooling1D())#10\n",
    "    model.add(Dense(1,activation='sigmoid'))#11\n",
    "    \n",
    "    model.compile('adam',loss='binary_crossentropy',metrics=['Accuracy', 'Precision', 'Recall','AUC'])\n",
    "    return model"
   ]
  },
  {
   "cell_type": "code",
   "execution_count": 5,
   "metadata": {},
   "outputs": [],
   "source": [
    "combined_model=clone_model(model1)"
   ]
  },
  {
   "cell_type": "code",
   "execution_count": 21,
   "metadata": {},
   "outputs": [],
   "source": [
    "# combined_model=cnnmodel()\n",
    "combined_model.set_weights([np.mean([model.get_weights()[i] for model in models], axis=0) for i in range(len(model1.get_weights()))])\n",
    "combined_model.compile('adam',loss='binary_crossentropy',metrics=['Accuracy', 'Precision', 'Recall','AUC'])"
   ]
  },
  {
   "cell_type": "code",
   "execution_count": 23,
   "metadata": {},
   "outputs": [
    {
     "data": {
      "text/plain": [
       "16"
      ]
     },
     "execution_count": 23,
     "metadata": {},
     "output_type": "execute_result"
    }
   ],
   "source": [
    "len(combined_model.get_weights())"
   ]
  },
  {
   "cell_type": "code",
   "execution_count": 24,
   "metadata": {},
   "outputs": [
    {
     "data": {
      "text/plain": [
       "[array([[[ 7.79938698e-02, -2.65273750e-02, -9.04584676e-03,\n",
       "           6.66300207e-03, -5.82135431e-02],\n",
       "         [ 1.21552922e-01, -1.29078791e-01, -2.84799747e-02,\n",
       "          -2.94777448e-03,  9.11851674e-02],\n",
       "         [ 5.49895652e-02,  9.77844186e-03, -1.49984900e-02,\n",
       "          -1.16642214e-01,  2.33803745e-02],\n",
       "         [-7.66136032e-03,  6.36033416e-02, -4.09623310e-02,\n",
       "           4.57595009e-03, -4.62328717e-02],\n",
       "         [-9.26199555e-02,  2.72075888e-02,  5.31512126e-02,\n",
       "          -5.62565029e-02, -1.71034951e-02],\n",
       "         [ 6.68345317e-02, -4.69917729e-02,  7.14297369e-02,\n",
       "           8.38564709e-02, -1.01723401e-02],\n",
       "         [-6.96145147e-02, -5.52424788e-02, -2.90793628e-02,\n",
       "           4.06393409e-03,  2.02831663e-02],\n",
       "         [ 4.78165820e-02,  4.78191860e-02,  7.22788274e-03,\n",
       "           4.88817766e-02, -9.53085199e-02],\n",
       "         [ 3.06191202e-02, -5.43209799e-02,  1.39817297e-02,\n",
       "           4.40664329e-02, -3.43128256e-02],\n",
       "         [-2.24994682e-02, -7.87321292e-03,  4.92193084e-03,\n",
       "          -1.39539987e-01,  4.17773351e-02],\n",
       "         [-3.17401513e-02, -5.79061136e-02, -5.68649881e-02,\n",
       "           7.86343366e-02, -5.28199971e-02],\n",
       "         [-5.90821728e-02, -6.06139302e-02,  4.09794785e-02,\n",
       "           8.08254257e-03,  2.73484699e-02],\n",
       "         [-2.72990651e-02,  1.44236684e-01,  4.71863076e-02,\n",
       "           1.01674348e-03, -7.02558383e-02],\n",
       "         [-7.64680048e-03,  1.16774682e-02,  1.19336151e-01,\n",
       "          -3.28349173e-02, -2.75413841e-02],\n",
       "         [-8.20458978e-02, -2.27632071e-03,  3.81709225e-02,\n",
       "          -1.75806861e-02, -2.83492799e-03],\n",
       "         [-3.16395089e-02, -3.77543308e-02,  1.11064948e-02,\n",
       "          -8.03846493e-02, -5.32916896e-02],\n",
       "         [-6.69217855e-03,  8.70162435e-03, -8.99166092e-02,\n",
       "          -1.45353362e-01, -1.90190934e-02],\n",
       "         [-8.68340507e-02, -5.81870861e-02, -9.31314677e-02,\n",
       "          -6.07786477e-02, -5.29120378e-02],\n",
       "         [-5.60032800e-02,  6.59925565e-02,  5.01597449e-02,\n",
       "          -2.69277934e-02, -9.32519436e-02]],\n",
       " \n",
       "        [[-6.22286685e-02,  3.46040502e-02,  5.14635928e-02,\n",
       "          -1.99451447e-02,  5.22735901e-02],\n",
       "         [-7.25710168e-02, -1.09504178e-01,  4.06680861e-03,\n",
       "          -2.79531479e-02,  6.24010712e-03],\n",
       "         [-2.66745239e-02, -2.76001878e-02,  1.57445706e-02,\n",
       "           4.43353057e-02, -9.36296582e-02],\n",
       "         [-3.34348865e-02, -1.63046010e-02,  5.75069003e-02,\n",
       "           4.98369224e-02,  5.69649711e-02],\n",
       "         [-4.04653735e-02, -4.94710356e-02, -1.66299942e-04,\n",
       "           3.32818739e-02, -6.02670088e-02],\n",
       "         [ 9.71801132e-02, -1.83431078e-02,  9.88331717e-03,\n",
       "          -5.43734059e-02,  5.46235740e-02],\n",
       "         [-2.98621296e-03, -4.92794923e-02,  4.86424044e-02,\n",
       "           7.97953829e-03, -3.30405496e-02],\n",
       "         [ 8.94151777e-02, -3.68069895e-02,  1.57577097e-02,\n",
       "          -1.37369828e-02,  8.57979525e-03],\n",
       "         [-8.09700266e-02, -5.52467108e-02,  3.21636945e-02,\n",
       "           6.76675886e-02,  8.71248394e-02],\n",
       "         [ 5.93101196e-02,  3.39384191e-02,  3.63451578e-02,\n",
       "           4.52791527e-02, -1.17794815e-02],\n",
       "         [-1.92933716e-02, -6.83624968e-02, -3.68465818e-02,\n",
       "          -1.07785687e-02,  8.81022587e-02],\n",
       "         [ 2.95746084e-02,  9.87029052e-04, -1.21742161e-02,\n",
       "           1.70475505e-02, -3.44120674e-02],\n",
       "         [-6.62712306e-02,  4.58123125e-02, -7.96380192e-02,\n",
       "          -4.39878181e-02, -5.66312447e-02],\n",
       "         [-1.72795355e-02,  1.09964751e-01,  5.81893930e-03,\n",
       "          -2.30254885e-02, -4.83723506e-02],\n",
       "         [ 1.36829661e-02, -7.95763507e-02,  7.37525970e-02,\n",
       "           1.56490169e-02,  6.85744658e-02],\n",
       "         [ 1.94371734e-02,  9.90733355e-02,  6.80470914e-02,\n",
       "          -3.54154105e-03,  3.82011719e-02],\n",
       "         [ 3.49146388e-02,  1.69318467e-02, -4.91110161e-02,\n",
       "          -8.01760182e-02,  4.71519344e-02],\n",
       "         [ 1.77830178e-02, -9.94041562e-03,  2.54429039e-02,\n",
       "           5.30954003e-02, -3.85296419e-02],\n",
       "         [ 2.19056718e-02, -4.29999344e-02,  1.70043148e-02,\n",
       "          -1.08174443e-01, -3.49688306e-02]],\n",
       " \n",
       "        [[-8.62940028e-03,  7.58349895e-02,  9.17093381e-02,\n",
       "          -3.20230350e-02,  6.12126179e-02],\n",
       "         [-3.29957493e-02, -1.83956493e-02,  1.24202110e-01,\n",
       "          -3.67641146e-03, -1.16254851e-01],\n",
       "         [ 3.24552879e-02, -7.55482465e-02, -2.57638637e-02,\n",
       "          -8.61356631e-02, -8.64459723e-02],\n",
       "         [ 1.00098168e-02,  1.63679812e-02, -1.48469638e-02,\n",
       "           7.22525492e-02,  7.44721573e-03],\n",
       "         [ 5.43609858e-02, -5.27627282e-02,  6.98283175e-03,\n",
       "           2.41369512e-02,  4.86946218e-02],\n",
       "         [-3.48257422e-02,  1.08973570e-02,  3.15008089e-02,\n",
       "          -4.21882942e-02, -1.95385013e-02],\n",
       "         [ 1.16720013e-02, -4.70896140e-02,  2.01343056e-02,\n",
       "           5.48373833e-02,  2.66083293e-02],\n",
       "         [ 6.75887102e-03, -8.82332996e-02, -3.72166857e-02,\n",
       "          -1.10363606e-02, -1.28767239e-02],\n",
       "         [ 9.05779600e-02, -2.59511620e-02, -4.88045216e-02,\n",
       "           1.53489634e-02, -1.22513128e-02],\n",
       "         [-8.55713040e-02, -5.66544905e-02, -6.30136877e-02,\n",
       "           2.31195427e-02,  5.34109361e-02],\n",
       "         [-2.69659963e-02, -2.21132282e-02, -5.68867438e-02,\n",
       "           1.22389765e-02, -4.84781154e-03],\n",
       "         [ 2.10998766e-02, -1.10948741e-01, -1.32555757e-02,\n",
       "          -1.54694021e-02, -1.31542166e-03],\n",
       "         [ 4.44126502e-02, -4.72337157e-02, -1.48508493e-02,\n",
       "           5.02325110e-02,  2.80142315e-02],\n",
       "         [ 7.99399242e-02,  4.94919624e-03,  6.82107136e-02,\n",
       "          -3.19319917e-03,  1.15128215e-02],\n",
       "         [ 5.33573739e-02,  1.14223147e-02,  1.17957219e-02,\n",
       "           6.73470274e-02,  1.07022777e-01],\n",
       "         [-9.53497589e-02, -5.55929132e-02,  6.63951068e-05,\n",
       "           8.33294988e-02, -1.56457424e-02],\n",
       "         [-6.98700771e-02,  3.16938274e-02,  7.08998889e-02,\n",
       "           4.93593216e-02, -5.35714515e-02],\n",
       "         [-1.58157006e-01,  5.64174354e-02,  7.85404220e-02,\n",
       "           9.70360413e-02, -2.12074127e-02],\n",
       "         [ 1.76637378e-02, -1.09265245e-01, -3.77321914e-02,\n",
       "           1.05742551e-01, -4.16859649e-02]]], dtype=float32),\n",
       " array([ 0.0130121 , -0.00074573, -0.00127787,  0.01175453,  0.01927461],\n",
       "       dtype=float32),\n",
       " array([1.0846488, 1.0946511, 1.0930775, 1.053292 , 1.1092976],\n",
       "       dtype=float32),\n",
       " array([0.06524794, 0.10887949, 0.09778969, 0.01784611, 0.0959844 ],\n",
       "       dtype=float32),\n",
       " array([ 0.01152751, -0.00058178, -0.00106468,  0.01048026,  0.01740676],\n",
       "       dtype=float32),\n",
       " array([1.5950093, 1.5762359, 1.7216154, 1.6945724, 1.7571003],\n",
       "       dtype=float32),\n",
       " array([[[ 1.99226618e-01,  7.30746165e-02,  5.35489619e-02,\n",
       "           5.02179861e-02,  1.67057902e-01],\n",
       "         [ 6.07358329e-02, -4.64552715e-02,  2.82108001e-02,\n",
       "           1.01734459e-01,  9.43325907e-02],\n",
       "         [ 1.55492455e-01,  5.26034459e-02, -1.78220849e-02,\n",
       "           1.16156898e-01, -1.57315936e-02],\n",
       "         [ 3.46719916e-03,  5.33218496e-02,  2.95018852e-02,\n",
       "          -6.88491762e-02,  8.48368406e-02],\n",
       "         [ 5.12441397e-02, -7.47702420e-02,  7.71077424e-02,\n",
       "           2.08220840e-01, -1.50620580e-01]],\n",
       " \n",
       "        [[ 4.57554013e-02, -8.82308185e-02, -8.07125121e-02,\n",
       "           2.08815172e-01, -2.10609995e-02],\n",
       "         [ 4.85557988e-02, -5.59634492e-02,  1.65787965e-01,\n",
       "           3.42665091e-02,  5.02003916e-02],\n",
       "         [ 1.46711588e-01,  2.00022310e-02,  5.90331554e-02,\n",
       "           8.79776776e-02,  1.64813206e-01],\n",
       "         [ 1.84490662e-02, -1.70641390e-04, -5.83117791e-02,\n",
       "           1.89024769e-02, -5.03912382e-02],\n",
       "         [ 1.15033366e-01, -2.90150531e-02, -5.95188923e-02,\n",
       "           1.60764843e-01,  1.13495648e-01]],\n",
       " \n",
       "        [[ 8.52177963e-02, -2.92038769e-02,  2.14934990e-01,\n",
       "           6.01190515e-02,  2.28862479e-01],\n",
       "         [ 3.74452509e-02,  2.11328432e-01, -4.15687747e-02,\n",
       "           1.36283234e-01,  3.79811302e-02],\n",
       "         [ 1.36411920e-01,  4.82433029e-02, -7.91671947e-02,\n",
       "           4.23456095e-02,  1.66057795e-03],\n",
       "         [-7.59010389e-02, -1.57674223e-01, -4.53184023e-02,\n",
       "           1.99280098e-01,  8.80875159e-03],\n",
       "         [-7.31512681e-02,  4.16937433e-02, -1.23099163e-01,\n",
       "           9.40376893e-02,  1.17964327e-01]]], dtype=float32),\n",
       " array([0.09044518, 0.04217021, 0.00732516, 0.09436356, 0.03594314],\n",
       "       dtype=float32),\n",
       " array([[[ 0.10857891, -0.06653552, -0.06907527, -0.06732708,\n",
       "          -0.03209494],\n",
       "         [ 0.00960256, -0.23720407, -0.05306536,  0.06796186,\n",
       "           0.17525145],\n",
       "         [-0.07396955,  0.10484072,  0.11674285, -0.01372193,\n",
       "           0.05789278],\n",
       "         [ 0.17757903,  0.03414065,  0.01649618,  0.03729807,\n",
       "          -0.02308232],\n",
       "         [ 0.00939902, -0.12120525,  0.04224849, -0.15039445,\n",
       "           0.1801804 ]],\n",
       " \n",
       "        [[-0.0161451 ,  0.10215036,  0.13504247,  0.10580467,\n",
       "          -0.09004657],\n",
       "         [ 0.12563542, -0.14830105,  0.00873472,  0.1010979 ,\n",
       "          -0.03937304],\n",
       "         [ 0.12393419,  0.16292429, -0.07277774, -0.04645423,\n",
       "          -0.25990263],\n",
       "         [-0.04387444,  0.17584434,  0.00639294,  0.07864277,\n",
       "          -0.06423611],\n",
       "         [-0.00635562, -0.0021209 ,  0.07105602,  0.05340619,\n",
       "           0.04041582]],\n",
       " \n",
       "        [[-0.07610103, -0.01038573,  0.04968686,  0.05990425,\n",
       "          -0.09561751],\n",
       "         [ 0.19201247, -0.0756776 , -0.07366578,  0.03662931,\n",
       "           0.02883035],\n",
       "         [-0.00118702, -0.02086888,  0.06931775,  0.00319678,\n",
       "           0.00285174],\n",
       "         [ 0.05655893,  0.11618856,  0.01734214,  0.10866378,\n",
       "          -0.13887206],\n",
       "         [ 0.0247403 ,  0.10642321,  0.02597794,  0.08585767,\n",
       "          -0.11640916]]], dtype=float32),\n",
       " array([0.03312606, 0.02771867, 0.02015225, 0.04344786, 0.00542752],\n",
       "       dtype=float32),\n",
       " array([[[ 0.06483028,  0.03747685, -0.02308259,  0.11969368,\n",
       "           0.01461214],\n",
       "         [-0.06590017, -0.0691941 ,  0.01320309,  0.02040865,\n",
       "           0.21290025],\n",
       "         [ 0.014118  ,  0.01193244,  0.13050263, -0.06006143,\n",
       "          -0.09479321],\n",
       "         [ 0.14030023, -0.00960987, -0.16869502,  0.08819368,\n",
       "          -0.05546148],\n",
       "         [-0.08409189, -0.04212089,  0.05638029,  0.06646568,\n",
       "           0.01643857]],\n",
       " \n",
       "        [[-0.01524325, -0.07918096, -0.05240018,  0.06181814,\n",
       "           0.06520965],\n",
       "         [-0.02861636, -0.01352265,  0.02136075,  0.08603261,\n",
       "           0.15854184],\n",
       "         [ 0.02928631,  0.04021136,  0.051263  , -0.07360615,\n",
       "          -0.02685619],\n",
       "         [ 0.02991214, -0.15393774, -0.00147122,  0.08600657,\n",
       "          -0.10151786],\n",
       "         [ 0.13343586, -0.10128452,  0.23274927, -0.02447265,\n",
       "           0.0863984 ]],\n",
       " \n",
       "        [[-0.17589387,  0.04453241, -0.01382838, -0.00853716,\n",
       "           0.00142715],\n",
       "         [ 0.11497851, -0.08262229,  0.03500482, -0.03607112,\n",
       "          -0.01526369],\n",
       "         [ 0.10984433, -0.04057749, -0.05102122, -0.09083773,\n",
       "          -0.05305354],\n",
       "         [ 0.0679296 , -0.14568786,  0.1307511 ,  0.04606799,\n",
       "          -0.03163785],\n",
       "         [-0.01127389,  0.05695171,  0.1036901 ,  0.10316555,\n",
       "           0.04204314]]], dtype=float32),\n",
       " array([ 0.01296673, -0.02015918,  0.01383388,  0.05039217,  0.00132323],\n",
       "       dtype=float32),\n",
       " array([[[ 0.13337323, -0.06818748,  0.04900914,  0.06280937,\n",
       "           0.04418502],\n",
       "         [-0.24260823,  0.00039627, -0.00583339,  0.00286898,\n",
       "          -0.01730026],\n",
       "         [-0.119635  ,  0.07955682,  0.0560276 , -0.00787584,\n",
       "           0.07193166],\n",
       "         [ 0.1283989 , -0.00899967, -0.06164746, -0.07253601,\n",
       "           0.08241324],\n",
       "         [ 0.01569964, -0.02581615, -0.02367805, -0.09266108,\n",
       "          -0.02128074]],\n",
       " \n",
       "        [[-0.16052541, -0.06241366, -0.0326123 ,  0.11067434,\n",
       "          -0.21170373],\n",
       "         [-0.13614438, -0.0969641 ,  0.04972603,  0.0270878 ,\n",
       "           0.07553221],\n",
       "         [ 0.0449184 ,  0.03988997,  0.0792319 ,  0.04600237,\n",
       "          -0.01255864],\n",
       "         [-0.10355335,  0.11658393,  0.04744793, -0.14720598,\n",
       "          -0.04102438],\n",
       "         [ 0.00547779, -0.1194675 ,  0.00816344, -0.05519823,\n",
       "          -0.0505553 ]],\n",
       " \n",
       "        [[-0.10667606, -0.01152422,  0.01556066,  0.04264453,\n",
       "           0.03116582],\n",
       "         [ 0.11253001, -0.01128998,  0.03649337,  0.04949675,\n",
       "           0.00822169],\n",
       "         [-0.05924232,  0.00636031,  0.02327862,  0.16621722,\n",
       "           0.06438036],\n",
       "         [ 0.06146942,  0.06443626, -0.10906841,  0.11831243,\n",
       "           0.04054306],\n",
       "         [-0.00540863, -0.19755717,  0.09581234,  0.14409135,\n",
       "          -0.13151234]]], dtype=float32),\n",
       " array([-0.00111671, -0.00410351,  0.00052986,  0.01726924,  0.00754059],\n",
       "       dtype=float32),\n",
       " array([[-0.04204916],\n",
       "        [-0.05801372],\n",
       "        [-0.17545271],\n",
       "        [ 0.10708387],\n",
       "        [ 0.04603733]], dtype=float32),\n",
       " array([0.01466203], dtype=float32)]"
      ]
     },
     "execution_count": 24,
     "metadata": {},
     "output_type": "execute_result"
    }
   ],
   "source": [
    "combined_model.get_weights()"
   ]
  },
  {
   "cell_type": "code",
   "execution_count": 18,
   "metadata": {},
   "outputs": [],
   "source": [
    "from glob import glob\n",
    "import mne\n",
    "from sklearn.preprocessing import StandardScaler\n",
    "import numpy as np"
   ]
  },
  {
   "cell_type": "code",
   "execution_count": 10,
   "metadata": {},
   "outputs": [
    {
     "name": "stdout",
     "output_type": "stream",
     "text": [
      "18\n",
      "9 9\n"
     ]
    }
   ],
   "source": [
    "all_files_path=glob('test/*.edf')\n",
    "print(len(all_files_path))\n",
    "healthy_file_path=[i for i in all_files_path if  'H' in i.split('\\\\')[1]]\n",
    "patient_file_path=[i for i in all_files_path if  'M' in i.split('\\\\')[1]]\n",
    "\n",
    "print(len(healthy_file_path),len(patient_file_path))\n",
    "def read_data(file_path):\n",
    "    raw = mne.io.read_raw_edf(file_path, preload=True)\n",
    "    # Select a specific channel\n",
    "    channel_to_keep = ['EEG Fp1-LE', 'EEG F3-LE', 'EEG C3-LE', 'EEG P3-LE', 'EEG O1-LE', 'EEG F7-LE', 'EEG T3-LE', 'EEG T5-LE', 'EEG Fz-LE', 'EEG Fp2-LE', 'EEG F4-LE', 'EEG C4-LE', 'EEG P4-LE', 'EEG O2-LE', 'EEG F8-LE', 'EEG T4-LE', 'EEG T6-LE', 'EEG Cz-LE', 'EEG Pz-LE']  \n",
    "      \n",
    "    # Replace with the name of the channel you want to keep\n",
    "    raw.pick_channels(channel_to_keep)\n",
    "    raw.set_eeg_reference()\n",
    "    raw.filter(l_freq=30,h_freq=100)#1-4=delta, 4-8=theta, 8-12=alpha, 12-30=beta, 30-100=gamma\n",
    "    epochs=mne.make_fixed_length_epochs(raw,duration=15,overlap=1)\n",
    "    epochs=epochs.get_data()\n",
    "    scaler = StandardScaler()\n",
    "    data = scaler.fit_transform(epochs.reshape(-1,epochs.shape[-1])).reshape(epochs.shape)\n",
    "    return data #trials,channel,length"
   ]
  },
  {
   "cell_type": "code",
   "execution_count": 11,
   "metadata": {},
   "outputs": [],
   "source": [
    "%%capture\n",
    "control_epochs_array=[read_data(subject) for subject in healthy_file_path]\n",
    "patients_epochs_array=[read_data(subject) for subject in patient_file_path]"
   ]
  },
  {
   "cell_type": "code",
   "execution_count": 12,
   "metadata": {},
   "outputs": [
    {
     "name": "stdout",
     "output_type": "stream",
     "text": [
      "9 9\n",
      "18 18\n"
     ]
    }
   ],
   "source": [
    "control_epochs_labels=[len(i)*[0] for i in control_epochs_array]\n",
    "patients_epochs_labels=[len(i)*[1] for i in patients_epochs_array]\n",
    "print(len(control_epochs_labels),len(patients_epochs_labels))\n",
    "data_list=control_epochs_array+patients_epochs_array\n",
    "label_list=control_epochs_labels+patients_epochs_labels\n",
    "print(len(data_list),len(label_list))\n",
    "data_array=np.vstack(data_list)\n",
    "label_array=np.hstack(label_list)\n",
    "data_array=np.moveaxis(data_array,1,2)"
   ]
  },
  {
   "cell_type": "code",
   "execution_count": 25,
   "metadata": {},
   "outputs": [
    {
     "name": "stdout",
     "output_type": "stream",
     "text": [
      "17/17 [==============================] - 1s 21ms/step - loss: 0.6927 - Accuracy: 0.5267 - precision: 0.5267 - recall: 1.0000 - auc: 0.5000        \n"
     ]
    },
    {
     "data": {
      "text/plain": [
       "[0.6927360892295837, 0.5267034769058228, 0.5267034769058228, 1.0, 0.5]"
      ]
     },
     "execution_count": 25,
     "metadata": {},
     "output_type": "execute_result"
    }
   ],
   "source": [
    "combined_model.evaluate(data_array, label_array)"
   ]
  },
  {
   "cell_type": "code",
   "execution_count": null,
   "metadata": {},
   "outputs": [],
   "source": []
  }
 ],
 "metadata": {
  "kernelspec": {
   "display_name": "Python 3",
   "language": "python",
   "name": "python3"
  },
  "language_info": {
   "codemirror_mode": {
    "name": "ipython",
    "version": 3
   },
   "file_extension": ".py",
   "mimetype": "text/x-python",
   "name": "python",
   "nbconvert_exporter": "python",
   "pygments_lexer": "ipython3",
   "version": "3.11.4"
  }
 },
 "nbformat": 4,
 "nbformat_minor": 2
}
