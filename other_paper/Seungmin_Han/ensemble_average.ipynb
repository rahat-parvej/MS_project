{
 "cells": [
  {
   "cell_type": "code",
   "execution_count": 2,
   "metadata": {},
   "outputs": [],
   "source": [
    "from sklearn.datasets import make_blobs\n",
    "from sklearn.metrics import accuracy_score\n",
    "from keras.utils import to_categorical\n",
    "from keras.models import Sequential\n",
    "from keras.layers import Dense\n",
    "from matplotlib import pyplot\n",
    "from numpy import mean\n",
    "from numpy import std\n",
    "import numpy\n",
    "from numpy import array\n",
    "from numpy import argmax\n",
    "from tensorflow.keras.models import load_model\n",
    "from glob import glob\n",
    "import mne\n",
    "from sklearn.preprocessing import StandardScaler\n",
    "import numpy as np"
   ]
  },
  {
   "cell_type": "code",
   "execution_count": 3,
   "metadata": {},
   "outputs": [],
   "source": [
    "\n",
    "model_paths = [\"../model/client_model{}.h5\".format(i) for i in range(10)]\n",
    "models = [load_model(model_path) for model_path in model_paths]"
   ]
  },
  {
   "cell_type": "code",
   "execution_count": 4,
   "metadata": {},
   "outputs": [
    {
     "data": {
      "text/plain": [
       "10"
      ]
     },
     "execution_count": 4,
     "metadata": {},
     "output_type": "execute_result"
    }
   ],
   "source": [
    "len(models)"
   ]
  },
  {
   "cell_type": "code",
   "execution_count": 5,
   "metadata": {},
   "outputs": [
    {
     "name": "stdout",
     "output_type": "stream",
     "text": [
      "18\n",
      "9 9\n"
     ]
    }
   ],
   "source": [
    "all_files_path=glob('../test/*.edf')\n",
    "print(len(all_files_path))\n",
    "healthy_file_path=[i for i in all_files_path if  'H' in i.split('\\\\')[1]]\n",
    "patient_file_path=[i for i in all_files_path if  'M' in i.split('\\\\')[1]]\n",
    "\n",
    "print(len(healthy_file_path),len(patient_file_path))\n",
    "def read_data(file_path):\n",
    "    raw = mne.io.read_raw_edf(file_path, preload=True)\n",
    "    # Select a specific channel\n",
    "    channel_to_keep = ['EEG Fp1-LE', 'EEG F3-LE', 'EEG C3-LE', 'EEG P3-LE', 'EEG O1-LE', 'EEG F7-LE', 'EEG T3-LE', 'EEG T5-LE', 'EEG Fz-LE', 'EEG Fp2-LE', 'EEG F4-LE', 'EEG C4-LE', 'EEG P4-LE', 'EEG O2-LE', 'EEG F8-LE', 'EEG T4-LE', 'EEG T6-LE', 'EEG Cz-LE', 'EEG Pz-LE']  \n",
    "      \n",
    "    # Replace with the name of the channel you want to keep\n",
    "    raw.pick_channels(channel_to_keep)\n",
    "    raw.set_eeg_reference()\n",
    "    raw.filter(l_freq=30,h_freq=100)#1-4=delta, 4-8=theta, 8-12=alpha, 12-30=beta, 30-100=gamma\n",
    "    epochs=mne.make_fixed_length_epochs(raw,duration=15,overlap=1)\n",
    "    epochs=epochs.get_data()\n",
    "    scaler = StandardScaler()\n",
    "    data = scaler.fit_transform(epochs.reshape(-1,epochs.shape[-1])).reshape(epochs.shape)\n",
    "    return data #trials,channel,length"
   ]
  },
  {
   "cell_type": "code",
   "execution_count": 6,
   "metadata": {},
   "outputs": [],
   "source": [
    "%%capture\n",
    "control_epochs_array=[read_data(subject) for subject in healthy_file_path]\n",
    "patients_epochs_array=[read_data(subject) for subject in patient_file_path]"
   ]
  },
  {
   "cell_type": "code",
   "execution_count": 51,
   "metadata": {},
   "outputs": [
    {
     "name": "stdout",
     "output_type": "stream",
     "text": [
      "9 9\n",
      "18 18\n"
     ]
    }
   ],
   "source": [
    "control_epochs_labels=[len(i)*[0] for i in control_epochs_array]\n",
    "patients_epochs_labels=[len(i)*[1] for i in patients_epochs_array]\n",
    "print(len(control_epochs_labels),len(patients_epochs_labels))\n",
    "data_list=control_epochs_array+patients_epochs_array\n",
    "label_list=control_epochs_labels+patients_epochs_labels\n",
    "print(len(data_list),len(label_list))\n",
    "data_array=np.vstack(data_list)\n",
    "label_array=np.hstack(label_list)\n",
    "data_array=np.moveaxis(data_array,1,2)"
   ]
  },
  {
   "cell_type": "code",
   "execution_count": 55,
   "metadata": {},
   "outputs": [],
   "source": [
    "\n",
    "# make an ensemble prediction for multi-class classification\n",
    "def ensemble_predictions(members, testX):\n",
    "\t# make predictions\n",
    "\tyhats = [model.predict(testX) for model in members]\n",
    "\tyhats = array(yhats)\n",
    "\t# sum across ensemble members\n",
    "\tsummed = numpy.sum(yhats, axis=0)\n",
    "\t# argmax across classes\n",
    "\tresult = argmax(summed, axis=1)\n",
    "\t\n",
    "\treturn result"
   ]
  },
  {
   "cell_type": "code",
   "execution_count": 53,
   "metadata": {},
   "outputs": [],
   "source": [
    "# evaluate a specific number of members in an ensemble\n",
    "def evaluate_n_members(members, n_members, testX, testy):\n",
    "\t# select a subset of members\n",
    "\tsubset = members[:n_members]\n",
    "\t# make prediction\n",
    "\tyhat = ensemble_predictions(subset, testX)\n",
    "\t# calculate accuracy\n",
    "\t\n",
    "\treturn accuracy_score(testy, yhat)\n"
   ]
  },
  {
   "cell_type": "code",
   "execution_count": 59,
   "metadata": {},
   "outputs": [
    {
     "name": "stdout",
     "output_type": "stream",
     "text": [
      "17/17 [==============================] - 0s 21ms/step\n",
      "17/17 [==============================] - 0s 23ms/step - loss: 4.4785 - Accuracy: 0.4733 - precision: 0.0000e+00 - recall: 0.0000e+00 - auc: 0.5472\n",
      "> 1: single=0.473, ensemble=0.473\n",
      "17/17 [==============================] - 0s 23ms/step\n",
      "17/17 [==============================] - 0s 21ms/step\n",
      "17/17 [==============================] - 0s 21ms/step - loss: 4.8018 - Accuracy: 0.4733 - precision: 0.0000e+00 - recall: 0.0000e+00 - auc: 0.5437\n",
      "> 2: single=0.473, ensemble=0.473\n",
      "17/17 [==============================] - 0s 23ms/step\n",
      "17/17 [==============================] - 1s 28ms/step\n",
      "17/17 [==============================] - 0s 20ms/step\n",
      "17/17 [==============================] - 0s 22ms/step - loss: 5.2119 - Accuracy: 0.4733 - precision: 0.0000e+00 - recall: 0.0000e+00 - auc: 0.5420\n",
      "> 3: single=0.473, ensemble=0.473\n",
      "17/17 [==============================] - 0s 19ms/step\n",
      "17/17 [==============================] - 0s 18ms/step\n",
      "17/17 [==============================] - 0s 19ms/step\n",
      "17/17 [==============================] - 0s 19ms/step\n",
      "17/17 [==============================] - 0s 20ms/step - loss: 4.9752 - Accuracy: 0.4733 - precision: 0.0000e+00 - recall: 0.0000e+00 - auc: 0.5402\n",
      "> 4: single=0.473, ensemble=0.473\n",
      "17/17 [==============================] - 0s 19ms/step\n",
      "17/17 [==============================] - 0s 19ms/step\n",
      "17/17 [==============================] - 0s 18ms/step\n",
      "17/17 [==============================] - 0s 20ms/step\n",
      "17/17 [==============================] - 0s 19ms/step\n",
      "17/17 [==============================] - 0s 20ms/step - loss: 1.8783 - Accuracy: 0.7753 - precision: 0.7181 - recall: 0.9441 - auc: 0.7825    \n",
      "> 5: single=0.775, ensemble=0.473\n",
      "17/17 [==============================] - 0s 20ms/step\n",
      "17/17 [==============================] - 0s 21ms/step\n",
      "17/17 [==============================] - 0s 19ms/step\n",
      "17/17 [==============================] - 0s 21ms/step\n",
      "17/17 [==============================] - 0s 18ms/step\n",
      "17/17 [==============================] - 0s 18ms/step\n",
      "17/17 [==============================] - 0s 20ms/step - loss: 5.9335 - Accuracy: 0.5267 - precision: 0.5267 - recall: 1.0000 - auc: 0.4808        \n",
      "> 6: single=0.527, ensemble=0.473\n",
      "17/17 [==============================] - 0s 19ms/step\n",
      "17/17 [==============================] - 0s 20ms/step\n",
      "17/17 [==============================] - 0s 20ms/step\n",
      "17/17 [==============================] - 0s 19ms/step\n",
      "17/17 [==============================] - 0s 19ms/step\n",
      "17/17 [==============================] - 0s 21ms/step\n",
      "17/17 [==============================] - 0s 20ms/step\n",
      "17/17 [==============================] - 0s 20ms/step - loss: 6.2151 - Accuracy: 0.5267 - precision: 0.5267 - recall: 1.0000 - auc: 0.4895        \n",
      "> 7: single=0.527, ensemble=0.473\n",
      "17/17 [==============================] - 0s 21ms/step\n",
      "17/17 [==============================] - 0s 20ms/step\n",
      "17/17 [==============================] - 0s 20ms/step\n",
      "17/17 [==============================] - 0s 20ms/step\n",
      "17/17 [==============================] - 0s 19ms/step\n",
      "17/17 [==============================] - 0s 22ms/step\n",
      "17/17 [==============================] - 0s 21ms/step\n",
      "17/17 [==============================] - 0s 21ms/step\n",
      "17/17 [==============================] - 0s 21ms/step - loss: 5.1439 - Accuracy: 0.5267 - precision: 0.5267 - recall: 1.0000 - auc: 0.4738         \n",
      "> 8: single=0.527, ensemble=0.473\n",
      "17/17 [==============================] - 0s 19ms/step\n",
      "17/17 [==============================] - 0s 19ms/step\n",
      "17/17 [==============================] - 0s 21ms/step\n",
      "17/17 [==============================] - 0s 21ms/step\n",
      "17/17 [==============================] - 1s 27ms/step\n",
      "17/17 [==============================] - 0s 20ms/step\n",
      "17/17 [==============================] - 0s 19ms/step\n",
      "17/17 [==============================] - 0s 20ms/step\n",
      "17/17 [==============================] - 0s 20ms/step\n",
      "17/17 [==============================] - 0s 21ms/step - loss: 6.4246 - Accuracy: 0.5267 - precision: 0.5267 - recall: 1.0000 - auc: 0.4808         \n",
      "> 9: single=0.527, ensemble=0.473\n",
      "17/17 [==============================] - 0s 20ms/step\n",
      "17/17 [==============================] - 0s 19ms/step\n",
      "17/17 [==============================] - 0s 19ms/step\n",
      "17/17 [==============================] - 0s 20ms/step\n",
      "17/17 [==============================] - 0s 22ms/step\n",
      "17/17 [==============================] - 0s 22ms/step\n",
      "17/17 [==============================] - 0s 24ms/step\n",
      "17/17 [==============================] - 0s 21ms/step\n",
      "17/17 [==============================] - 0s 20ms/step\n",
      "17/17 [==============================] - 0s 20ms/step\n",
      "17/17 [==============================] - 0s 21ms/step - loss: 5.6953 - Accuracy: 0.5267 - precision: 0.5267 - recall: 1.0000 - auc: 0.4808        \n",
      "> 10: single=0.527, ensemble=0.473\n",
      "Accuracy 0.530 (0.085)\n"
     ]
    }
   ],
   "source": [
    "# evaluate different numbers of ensembles on hold out set\n",
    "single_scores=[]\n",
    "ensemble_scores = []\n",
    "for i in range(1,len(models)+1):\n",
    "\t# evaluate model with i members\n",
    "\tensemble_score = evaluate_n_members(models, i, data_array, label_array)\n",
    "\t# evaluate the i'th model standalone\n",
    "\ttesty_enc = to_categorical(label_array)\n",
    "\tsingle_score = models[i-1].evaluate(data_array, label_array)\n",
    "\t# summarize this step\n",
    "\tprint('> %d: single=%.3f, ensemble=%.3f' % (i, single_score[1], ensemble_score))\n",
    "\tensemble_scores.append(ensemble_score)\n",
    "\tsingle_scores.append(single_score[1])\n",
    "\t\n",
    "\t\n",
    "# summarize average accuracy of a single final model\n",
    "print('Accuracy %.3f (%.3f)' % (mean(single_scores), std(single_scores)))\n"
   ]
  },
  {
   "cell_type": "code",
   "execution_count": 60,
   "metadata": {},
   "outputs": [
    {
     "data": {
      "text/plain": [
       "[0.47329649329185486,\n",
       " 0.47329649329185486,\n",
       " 0.47329649329185486,\n",
       " 0.47329649329185486,\n",
       " 0.7753222584724426,\n",
       " 0.5267034769058228,\n",
       " 0.5267034769058228,\n",
       " 0.5267034769058228,\n",
       " 0.5267034769058228,\n",
       " 0.5267034769058228]"
      ]
     },
     "execution_count": 60,
     "metadata": {},
     "output_type": "execute_result"
    }
   ],
   "source": [
    "single_scores"
   ]
  },
  {
   "cell_type": "code",
   "execution_count": 61,
   "metadata": {},
   "outputs": [
    {
     "data": {
      "image/png": "[encoded data removed]",
      "text/plain": [
       "<Figure size 640x480 with 1 Axes>"
      ]
     },
     "metadata": {},
     "output_type": "display_data"
    }
   ],
   "source": [
    "# plot score vs number of ensemble members\n",
    "x_axis = [i for i in range(1,len(models)+1)]\n",
    "pyplot.plot(x_axis, single_scores, marker='x', linestyle='None')\n",
    "pyplot.plot(x_axis, ensemble_scores, marker='o')\n",
    "pyplot.show()"
   ]
  },
  {
   "cell_type": "code",
   "execution_count": null,
   "metadata": {},
   "outputs": [],
   "source": []
  }
 ],
 "metadata": {
  "kernelspec": {
   "display_name": "Python 3",
   "language": "python",
   "name": "python3"
  },
  "language_info": {
   "codemirror_mode": {
    "name": "ipython",
    "version": 3
   },
   "file_extension": ".py",
   "mimetype": "text/x-python",
   "name": "python",
   "nbconvert_exporter": "python",
   "pygments_lexer": "ipython3",
   "version": "3.11.4"
  }
 },
 "nbformat": 4,
 "nbformat_minor": 2
}
