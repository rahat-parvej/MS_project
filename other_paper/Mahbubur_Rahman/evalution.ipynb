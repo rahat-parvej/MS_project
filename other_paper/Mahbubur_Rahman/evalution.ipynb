{
 "cells": [
  {
   "cell_type": "code",
   "execution_count": 8,
   "metadata": {},
   "outputs": [],
   "source": [
    "from tensorflow.keras.models import load_model\n",
    "from glob import glob\n",
    "from sklearn.preprocessing import StandardScaler\n",
    "import mne\n",
    "from matplotlib import pyplot\n",
    "import numpy as np\n",
    "from sklearn.metrics import accuracy_score, precision_score, recall_score, f1_score"
   ]
  },
  {
   "cell_type": "code",
   "execution_count": 9,
   "metadata": {},
   "outputs": [],
   "source": [
    "model_paths = ['models/global_model.h5','models/local_model_0.h5','models/local_model_1.h5','models/local_model_2.h5','models/local_model_3.h5','models/local_model_4.h5','models/local_model_5.h5','models/local_model_6.h5','models/local_model_7.h5','models/local_model_8.h5','models/local_model_9.h5']\n",
    "models = [load_model(model_path) for model_path in model_paths]"
   ]
  },
  {
   "cell_type": "code",
   "execution_count": 10,
   "metadata": {},
   "outputs": [
    {
     "name": "stdout",
     "output_type": "stream",
     "text": [
      "18\n",
      "9 9\n"
     ]
    }
   ],
   "source": [
    "all_files_path=glob('../test/*.edf')\n",
    "print(len(all_files_path))\n",
    "healthy_file_path=[i for i in all_files_path if  'H' in i.split('\\\\')[1]]\n",
    "patient_file_path=[i for i in all_files_path if  'M' in i.split('\\\\')[1]]\n",
    "\n",
    "print(len(healthy_file_path),len(patient_file_path))\n",
    "def read_data(file_path):\n",
    "    raw = mne.io.read_raw_edf(file_path, preload=True)\n",
    "    # Select a specific channel\n",
    "    channel_to_keep = ['EEG Fp1-LE', 'EEG F3-LE', 'EEG C3-LE', 'EEG P3-LE', 'EEG O1-LE', 'EEG F7-LE', 'EEG T3-LE', 'EEG T5-LE', 'EEG Fz-LE', 'EEG Fp2-LE', 'EEG F4-LE', 'EEG C4-LE', 'EEG P4-LE', 'EEG O2-LE', 'EEG F8-LE', 'EEG T4-LE', 'EEG T6-LE', 'EEG Cz-LE', 'EEG Pz-LE']  \n",
    "      \n",
    "    # Replace with the name of the channel you want to keep\n",
    "    raw.pick_channels(channel_to_keep)\n",
    "    raw.set_eeg_reference()\n",
    "    raw.filter(l_freq=30,h_freq=100)#1-4=delta, 4-8=theta, 8-12=alpha, 12-30=beta, 30-100=gamma\n",
    "    epochs=mne.make_fixed_length_epochs(raw,duration=15,overlap=1)\n",
    "    epochs=epochs.get_data()\n",
    "    scaler = StandardScaler()\n",
    "    data = scaler.fit_transform(epochs.reshape(-1,epochs.shape[-1])).reshape(epochs.shape)\n",
    "    return data #trials,channel,length"
   ]
  },
  {
   "cell_type": "code",
   "execution_count": 11,
   "metadata": {},
   "outputs": [],
   "source": [
    "%%capture\n",
    "control_epochs_array=[read_data(subject) for subject in healthy_file_path]\n",
    "patients_epochs_array=[read_data(subject) for subject in patient_file_path]"
   ]
  },
  {
   "cell_type": "code",
   "execution_count": 12,
   "metadata": {},
   "outputs": [
    {
     "name": "stdout",
     "output_type": "stream",
     "text": [
      "9 9\n",
      "18 18\n"
     ]
    }
   ],
   "source": [
    "control_epochs_labels=[len(i)*[0] for i in control_epochs_array]\n",
    "patients_epochs_labels=[len(i)*[1] for i in patients_epochs_array]\n",
    "print(len(control_epochs_labels),len(patients_epochs_labels))\n",
    "data_list=control_epochs_array+patients_epochs_array\n",
    "label_list=control_epochs_labels+patients_epochs_labels\n",
    "print(len(data_list),len(label_list))\n",
    "data_array=np.vstack(data_list)\n",
    "label_array=np.hstack(label_list)\n",
    "data_array=np.moveaxis(data_array,1,2)"
   ]
  },
  {
   "cell_type": "code",
   "execution_count": 13,
   "metadata": {},
   "outputs": [
    {
     "name": "stdout",
     "output_type": "stream",
     "text": [
      "17/17 [==============================] - 1s 23ms/step - loss: 0.6742 - Accuracy: 0.4494 - precision: 0.3333 - recall: 0.0455 - auc: 0.7245    \n",
      "17/17 [==============================] - 1s 20ms/step - loss: 3.2019 - Accuracy: 0.4733 - precision: 0.0000e+00 - recall: 0.0000e+00 - auc: 0.5850\n",
      "17/17 [==============================] - 1s 20ms/step - loss: 3.7344 - Accuracy: 0.4733 - precision: 0.0000e+00 - recall: 0.0000e+00 - auc: 0.5682\n",
      "17/17 [==============================] - 1s 20ms/step - loss: 3.8852 - Accuracy: 0.4733 - precision: 0.0000e+00 - recall: 0.0000e+00 - auc: 0.5647\n",
      "17/17 [==============================] - 1s 20ms/step - loss: 3.3243 - Accuracy: 0.4733 - precision: 0.0000e+00 - recall: 0.0000e+00 - auc: 0.5997\n",
      "17/17 [==============================] - 1s 19ms/step - loss: 1.2256 - Accuracy: 0.7827 - precision: 0.7400 - recall: 0.9056 - auc: 0.7492    \n",
      "17/17 [==============================] - 3s 21ms/step - loss: 5.4723 - Accuracy: 0.5267 - precision: 0.5267 - recall: 1.0000 - auc: 0.4633         \n",
      "17/17 [==============================] - 1s 20ms/step - loss: 5.2332 - Accuracy: 0.5267 - precision: 0.5267 - recall: 1.0000 - auc: 0.4598         \n",
      "17/17 [==============================] - 1s 21ms/step - loss: 5.2885 - Accuracy: 0.5267 - precision: 0.5267 - recall: 1.0000 - auc: 0.4580         \n",
      "17/17 [==============================] - 1s 20ms/step - loss: 5.5980 - Accuracy: 0.5267 - precision: 0.5267 - recall: 1.0000 - auc: 0.4685         \n",
      "17/17 [==============================] - 1s 20ms/step - loss: 5.2240 - Accuracy: 0.5267 - precision: 0.5267 - recall: 1.0000 - auc: 0.4650         \n"
     ]
    }
   ],
   "source": [
    "acc = []\n",
    "pre=[]\n",
    "rec=[]\n",
    "f1=[]\n",
    "for i in range(1, len(models)+1):\n",
    "    single_score = models[i-1].evaluate(data_array, label_array)\n",
    "    acc.append(single_score[1])\n",
    "    pre.append(single_score[2])\n",
    "    rec.append(single_score[3])\n",
    "    # f1sc=2*((single_score[2]*single_score[3])/(single_score[2]+single_score[3]))\n",
    "    # f1.append(f1sc)"
   ]
  },
  {
   "cell_type": "code",
   "execution_count": 14,
   "metadata": {},
   "outputs": [
    {
     "data": {
      "image/png": "[encoded data removed]",
      "text/plain": [
       "<Figure size 1500x600 with 1 Axes>"
      ]
     },
     "metadata": {},
     "output_type": "display_data"
    }
   ],
   "source": [
    "# Resize the plot\n",
    "pyplot.figure(figsize=(15, 6))\n",
    "# Bar width\n",
    "bar_width = 0.2\n",
    "\n",
    "# Set positions for bars on X-axis\n",
    "r1 = np.arange(len(model_paths))\n",
    "r2 = [x + bar_width for x in r1]\n",
    "r3 = [x + bar_width for x in r2]\n",
    "r4 = [x + bar_width for x in r3]\n",
    "# Create the bar chart\n",
    "pyplot.bar(r1, acc, width=bar_width, label='Accuracy')\n",
    "pyplot.bar(r2, pre, width=bar_width, label='Precision')\n",
    "pyplot.bar(r3, rec, width=bar_width, label='Recall')\n",
    "# pyplot.bar(r4, f1_scores, width=bar_width, label='F1 Score')\n",
    "\n",
    "# Add labels and title\n",
    "pyplot.xlabel('Models', fontweight='bold')\n",
    "pyplot.ylabel('score weighted with data sample', fontweight='bold')\n",
    "pyplot.xticks([r + bar_width for r in range(11)], range(11))\n",
    "pyplot.legend()\n",
    "\n",
    "# Show the plot\n",
    "pyplot.show()"
   ]
  },
  {
   "cell_type": "code",
   "execution_count": null,
   "metadata": {},
   "outputs": [],
   "source": []
  }
 ],
 "metadata": {
  "kernelspec": {
   "display_name": "Python 3",
   "language": "python",
   "name": "python3"
  },
  "language_info": {
   "codemirror_mode": {
    "name": "ipython",
    "version": 3
   },
   "file_extension": ".py",
   "mimetype": "text/x-python",
   "name": "python",
   "nbconvert_exporter": "python",
   "pygments_lexer": "ipython3",
   "version": "3.11.4"
  }
 },
 "nbformat": 4,
 "nbformat_minor": 2
}
