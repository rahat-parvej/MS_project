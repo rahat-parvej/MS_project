{
 "cells": [
  {
   "cell_type": "code",
   "execution_count": 1,
   "metadata": {},
   "outputs": [],
   "source": [
    "import mne\n",
    "from glob import glob\n",
    "from sklearn.preprocessing import StandardScaler\n",
    "import tensorflow as tf\n",
    "import numpy as np\n",
    "from sklearn.model_selection import train_test_split\n",
    "from concurrent.futures import ThreadPoolExecutor\n",
    "from tensorflow.keras.layers import Conv1D,BatchNormalization,LeakyReLU,MaxPool1D,\\\n",
    "GlobalAveragePooling1D,Dense,Dropout,AveragePooling1D\n",
    "from tensorflow.keras.models import Sequential\n",
    "from tensorflow.keras.backend import clear_session"
   ]
  },
  {
   "cell_type": "code",
   "execution_count": 2,
   "metadata": {},
   "outputs": [],
   "source": [
    "def read_data(file_path):\n",
    "    raw = mne.io.read_raw_edf(file_path, preload=True)\n",
    "    raw.pick_types(meg=False, eeg=True, eog=False, ecg=False) # Selecting EEG, EOG and ECG channels\n",
    "    # Select a specific channel\n",
    "    channel_to_keep = ['EEG Fp1-LE', 'EEG F3-LE', 'EEG C3-LE', 'EEG P3-LE', 'EEG O1-LE', 'EEG F7-LE', 'EEG T3-LE', 'EEG T5-LE', 'EEG Fz-LE', 'EEG Fp2-LE', 'EEG F4-LE', 'EEG C4-LE', 'EEG P4-LE', 'EEG O2-LE', 'EEG F8-LE', 'EEG T4-LE', 'EEG T6-LE', 'EEG Cz-LE', 'EEG Pz-LE', 'EEG A2-A1']  \n",
    "    # Replace with the name of the channel you want to keep\n",
    "    raw.pick_channels(channel_to_keep)\n",
    "    raw.set_eeg_reference()\n",
    "    raw.filter(l_freq=30,h_freq=100)#1-4=delta, 4-8=theta, 8-12=alpha, 12-30=beta, 30-100=gamma\n",
    "    epochs=mne.make_fixed_length_epochs(raw,duration=15,overlap=1)\n",
    "    epochs=epochs.get_data()\n",
    "    scaler = StandardScaler()\n",
    "    data = scaler.fit_transform(epochs.reshape(-1,epochs.shape[-1])).reshape(epochs.shape)\n",
    "    return data #trials,channel,length"
   ]
  },
  {
   "cell_type": "code",
   "execution_count": 3,
   "metadata": {},
   "outputs": [
    {
     "name": "stdout",
     "output_type": "stream",
     "text": [
      "162\n",
      "76 86\n"
     ]
    }
   ],
   "source": [
    "all_files_path=glob('../data/*.edf')\n",
    "print(len(all_files_path))\n",
    "healthy_file_path=[i for i in all_files_path if  'H' in i.split('\\\\')[1]]\n",
    "patient_file_path=[i for i in all_files_path if  'M' in i.split('\\\\')[1]]\n",
    "print(len(healthy_file_path),len(patient_file_path))\n"
   ]
  },
  {
   "cell_type": "code",
   "execution_count": 4,
   "metadata": {},
   "outputs": [],
   "source": [
    "%%capture\n",
    "control_epochs_array=[read_data(subject) for subject in healthy_file_path]\n",
    "patients_epochs_array=[read_data(subject) for subject in patient_file_path]\n",
    "control_epochs_labels=[len(i)*[0] for i in control_epochs_array]\n",
    "patients_epochs_labels=[len(i)*[1] for i in patients_epochs_array]"
   ]
  },
  {
   "cell_type": "code",
   "execution_count": 5,
   "metadata": {},
   "outputs": [
    {
     "data": {
      "text/plain": [
       "76"
      ]
     },
     "execution_count": 5,
     "metadata": {},
     "output_type": "execute_result"
    }
   ],
   "source": [
    "len(control_epochs_array)"
   ]
  },
  {
   "cell_type": "code",
   "execution_count": 6,
   "metadata": {},
   "outputs": [],
   "source": [
    "data_list=control_epochs_array+patients_epochs_array\n",
    "label_list=control_epochs_labels+patients_epochs_labels\n",
    "groups_list=[[i]*len(j) for i, j in enumerate(data_list)]\n",
    "\n",
    "data_array=np.vstack(data_list)\n",
    "label_array=np.hstack(label_list)\n",
    "group_array=np.hstack(groups_list)\n",
    "\n",
    "data_array=np.moveaxis(data_array,1,2)\n",
    "X=data_array\n",
    "y=label_array"
   ]
  },
  {
   "cell_type": "code",
   "execution_count": 7,
   "metadata": {},
   "outputs": [
    {
     "name": "stdout",
     "output_type": "stream",
     "text": [
      "4638 4638\n"
     ]
    }
   ],
   "source": [
    "print(len(y),len(X))"
   ]
  },
  {
   "cell_type": "code",
   "execution_count": 8,
   "metadata": {},
   "outputs": [],
   "source": [
    "def cnnmodel():\n",
    "    clear_session()\n",
    "    model=Sequential()\n",
    "    model.add(Conv1D(filters=5,kernel_size=3,strides=1,input_shape=(3840,20)))#1\n",
    "    model.add(BatchNormalization())\n",
    "    model.add(LeakyReLU())\n",
    "    model.add(MaxPool1D(pool_size=2,strides=2))#2\n",
    "    model.add(Conv1D(filters=5,kernel_size=3,strides=1))#3\n",
    "    model.add(LeakyReLU())\n",
    "    model.add(MaxPool1D(pool_size=2,strides=2))#4\n",
    "    model.add(Dropout(0.5))\n",
    "    model.add(Conv1D(filters=5,kernel_size=3,strides=1))#5\n",
    "    model.add(LeakyReLU())\n",
    "    model.add(AveragePooling1D(pool_size=2,strides=2))#6\n",
    "    model.add(Dropout(0.5))\n",
    "    model.add(Conv1D(filters=5,kernel_size=3,strides=1))#7\n",
    "    model.add(LeakyReLU())\n",
    "    model.add(AveragePooling1D(pool_size=2,strides=2))#8\n",
    "    model.add(Conv1D(filters=5,kernel_size=3,strides=1))#9\n",
    "    model.add(LeakyReLU())\n",
    "    model.add(GlobalAveragePooling1D())#10\n",
    "    model.add(Dense(1,activation='sigmoid'))#11\n",
    "    \n",
    "    model.compile('adam',loss='binary_crossentropy',metrics=['Accuracy', 'Precision', 'Recall','AUC'])\n",
    "    return model"
   ]
  },
  {
   "cell_type": "code",
   "execution_count": 9,
   "metadata": {},
   "outputs": [
    {
     "name": "stdout",
     "output_type": "stream",
     "text": [
      "Epoch 1/25\n",
      "186/186 [==============================] - 21s 74ms/step - loss: 0.5284 - Accuracy: 0.7370 - precision: 0.6794 - recall: 0.9608 - auc: 0.8235\n",
      "Epoch 2/25\n",
      "186/186 [==============================] - 14s 74ms/step - loss: 0.2268 - Accuracy: 0.9041 - precision: 0.8757 - recall: 0.9560 - auc: 0.9703\n",
      "Epoch 3/25\n",
      "186/186 [==============================] - 13s 71ms/step - loss: 0.1642 - Accuracy: 0.9273 - precision: 0.9125 - recall: 0.9556 - auc: 0.9844\n",
      "Epoch 4/25\n",
      "186/186 [==============================] - 13s 72ms/step - loss: 0.1422 - Accuracy: 0.9405 - precision: 0.9317 - recall: 0.9588 - auc: 0.9883\n",
      "Epoch 5/25\n",
      "186/186 [==============================] - 14s 77ms/step - loss: 0.1246 - Accuracy: 0.9515 - precision: 0.9490 - recall: 0.9608 - auc: 0.9906\n",
      "Epoch 6/25\n",
      "186/186 [==============================] - 15s 82ms/step - loss: 0.1029 - Accuracy: 0.9588 - precision: 0.9568 - recall: 0.9665 - auc: 0.9933\n",
      "Epoch 7/25\n",
      "186/186 [==============================] - 15s 79ms/step - loss: 0.0940 - Accuracy: 0.9670 - precision: 0.9655 - recall: 0.9730 - auc: 0.9941\n",
      "Epoch 8/25\n",
      "186/186 [==============================] - 14s 76ms/step - loss: 0.0931 - Accuracy: 0.9627 - precision: 0.9597 - recall: 0.9709 - auc: 0.9944\n",
      "Epoch 9/25\n",
      "186/186 [==============================] - 14s 77ms/step - loss: 0.0792 - Accuracy: 0.9726 - precision: 0.9685 - recall: 0.9806 - auc: 0.9958\n",
      "Epoch 10/25\n",
      "186/186 [==============================] - 14s 77ms/step - loss: 0.0751 - Accuracy: 0.9709 - precision: 0.9729 - recall: 0.9725 - auc: 0.9966\n",
      "Epoch 11/25\n",
      "186/186 [==============================] - 14s 78ms/step - loss: 0.0791 - Accuracy: 0.9698 - precision: 0.9668 - recall: 0.9770 - auc: 0.9959\n",
      "Epoch 12/25\n",
      "186/186 [==============================] - 14s 76ms/step - loss: 0.0715 - Accuracy: 0.9754 - precision: 0.9743 - recall: 0.9798 - auc: 0.9962\n",
      "Epoch 13/25\n",
      "186/186 [==============================] - 14s 77ms/step - loss: 0.0724 - Accuracy: 0.9705 - precision: 0.9703 - recall: 0.9746 - auc: 0.9967\n",
      "Epoch 14/25\n",
      "186/186 [==============================] - 14s 78ms/step - loss: 0.0717 - Accuracy: 0.9707 - precision: 0.9706 - recall: 0.9746 - auc: 0.9965\n",
      "Epoch 15/25\n",
      "186/186 [==============================] - 15s 79ms/step - loss: 0.0637 - Accuracy: 0.9767 - precision: 0.9751 - recall: 0.9814 - auc: 0.9968\n",
      "Epoch 16/25\n",
      "186/186 [==============================] - 14s 78ms/step - loss: 0.0586 - Accuracy: 0.9802 - precision: 0.9768 - recall: 0.9863 - auc: 0.9976\n",
      "Epoch 17/25\n",
      "186/186 [==============================] - 15s 78ms/step - loss: 0.0534 - Accuracy: 0.9789 - precision: 0.9764 - recall: 0.9843 - auc: 0.9980\n",
      "Epoch 18/25\n",
      "186/186 [==============================] - 15s 80ms/step - loss: 0.0592 - Accuracy: 0.9784 - precision: 0.9783 - recall: 0.9814 - auc: 0.9971\n",
      "Epoch 19/25\n",
      "186/186 [==============================] - 14s 78ms/step - loss: 0.0538 - Accuracy: 0.9825 - precision: 0.9823 - recall: 0.9851 - auc: 0.9977\n",
      "Epoch 20/25\n",
      "186/186 [==============================] - 14s 77ms/step - loss: 0.0566 - Accuracy: 0.9778 - precision: 0.9763 - recall: 0.9822 - auc: 0.9978\n",
      "Epoch 21/25\n",
      "186/186 [==============================] - 15s 78ms/step - loss: 0.0467 - Accuracy: 0.9806 - precision: 0.9795 - recall: 0.9843 - auc: 0.9985\n",
      "Epoch 22/25\n",
      "186/186 [==============================] - 14s 77ms/step - loss: 0.0400 - Accuracy: 0.9862 - precision: 0.9847 - recall: 0.9895 - auc: 0.9990\n",
      "Epoch 23/25\n",
      "186/186 [==============================] - 14s 78ms/step - loss: 0.0474 - Accuracy: 0.9817 - precision: 0.9811 - recall: 0.9847 - auc: 0.9984\n",
      "Epoch 24/25\n",
      "186/186 [==============================] - 15s 79ms/step - loss: 0.0402 - Accuracy: 0.9858 - precision: 0.9847 - recall: 0.9887 - auc: 0.9988\n",
      "Epoch 25/25\n",
      "186/186 [==============================] - 15s 78ms/step - loss: 0.0405 - Accuracy: 0.9864 - precision: 0.9847 - recall: 0.9899 - auc: 0.9986\n"
     ]
    }
   ],
   "source": [
    "model = cnnmodel()\n",
    "model.compile('adam',loss='binary_crossentropy',metrics=['Accuracy', 'Precision', 'Recall','AUC'])\n",
    "history = model.fit(X,y,epochs=25,batch_size=25)"
   ]
  },
  {
   "cell_type": "code",
   "execution_count": 10,
   "metadata": {},
   "outputs": [
    {
     "name": "stdout",
     "output_type": "stream",
     "text": [
      "training accuracy 0.958956446647644\n"
     ]
    }
   ],
   "source": [
    "print(\"training accuracy\",np.mean(history.history['Accuracy']))"
   ]
  },
  {
   "cell_type": "code",
   "execution_count": 11,
   "metadata": {},
   "outputs": [
    {
     "name": "stdout",
     "output_type": "stream",
     "text": [
      "18\n"
     ]
    }
   ],
   "source": [
    "test_all_files_path=glob('../test/*.edf')\n",
    "print(len(test_all_files_path))\n",
    "test_healthy_file_path=[i for i in test_all_files_path if  'H' in i.split('\\\\')[1]]\n",
    "test_patient_file_path=[i for i in test_all_files_path if  'M' in i.split('\\\\')[1]]"
   ]
  },
  {
   "cell_type": "code",
   "execution_count": 12,
   "metadata": {},
   "outputs": [],
   "source": [
    "%%capture\n",
    "test_control_epochs_array=[read_data(subject) for subject in test_healthy_file_path]\n",
    "test_patients_epochs_array=[read_data(subject) for subject in test_patient_file_path]"
   ]
  },
  {
   "cell_type": "code",
   "execution_count": 13,
   "metadata": {},
   "outputs": [],
   "source": [
    "test_control_epochs_labels=[len(i)*[0] for i in test_control_epochs_array]\n",
    "test_patients_epochs_labels=[len(i)*[1] for i in test_patients_epochs_array]\n",
    "\n",
    "test_data_list=test_control_epochs_array+test_patients_epochs_array\n",
    "test_label_list=test_control_epochs_labels+test_patients_epochs_labels\n",
    "\n",
    "test_data_array=np.vstack(test_data_list)\n",
    "test_label_array=np.hstack(test_label_list)\n",
    "test_data_array=np.moveaxis(test_data_array,1,2)"
   ]
  },
  {
   "cell_type": "code",
   "execution_count": 14,
   "metadata": {},
   "outputs": [
    {
     "name": "stdout",
     "output_type": "stream",
     "text": [
      "17/17 [==============================] - 2s 40ms/step - loss: 0.0877 - Accuracy: 0.9761 - precision: 0.9823 - recall: 0.9720 - auc: 0.9949  \n"
     ]
    },
    {
     "data": {
      "text/plain": [
       "[0.08773865550756454,\n",
       " 0.9760589599609375,\n",
       " 0.982332170009613,\n",
       " 0.9720279574394226,\n",
       " 0.9949389696121216]"
      ]
     },
     "execution_count": 14,
     "metadata": {},
     "output_type": "execute_result"
    }
   ],
   "source": [
    "model.evaluate(test_data_array,test_label_array)"
   ]
  },
  {
   "cell_type": "code",
   "execution_count": null,
   "metadata": {},
   "outputs": [],
   "source": []
  }
 ],
 "metadata": {
  "kernelspec": {
   "display_name": "Python 3",
   "language": "python",
   "name": "python3"
  },
  "language_info": {
   "codemirror_mode": {
    "name": "ipython",
    "version": 3
   },
   "file_extension": ".py",
   "mimetype": "text/x-python",
   "name": "python",
   "nbconvert_exporter": "python",
   "pygments_lexer": "ipython3",
   "version": "3.11.4"
  }
 },
 "nbformat": 4,
 "nbformat_minor": 2
}
