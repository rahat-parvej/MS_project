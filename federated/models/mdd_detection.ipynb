{
 "cells": [
  {
   "cell_type": "markdown",
   "metadata": {},
   "source": [
    "Import Packeges"
   ]
  },
  {
   "cell_type": "code",
   "execution_count": 1,
   "metadata": {},
   "outputs": [],
   "source": [
    "import tensorflow as tf\n",
    "from glob import glob\n",
    "\n",
    "import mne\n",
    "\n",
    "import numpy as np\n",
    "import matplotlib.pyplot as plt\n",
    "import pandas as pd\n",
    "from tensorflow.keras.layers import Conv1D,BatchNormalization,LeakyReLU,MaxPool1D,\\\n",
    "GlobalAveragePooling1D,Dense,Dropout,AveragePooling1D\n",
    "from tensorflow.keras.models import Sequential\n",
    "from tensorflow.keras.backend import clear_session\n",
    "# from tensorflow.keras.metrics import Accuracy, Precision, Recall, F1Score, AUC\n",
    "from sklearn.metrics import confusion_matrix\n",
    "from sklearn.model_selection import GroupKFold\n",
    "from sklearn.preprocessing import StandardScaler"
   ]
  },
  {
   "cell_type": "markdown",
   "metadata": {},
   "source": [
    "Read Input Fiels"
   ]
  },
  {
   "cell_type": "code",
   "execution_count": 2,
   "metadata": {},
   "outputs": [
    {
     "name": "stdout",
     "output_type": "stream",
     "text": [
      "18\n"
     ]
    }
   ],
   "source": [
    "#read all file\n",
    "all_files_path=glob('test/*.edf')\n",
    "print(len(all_files_path))"
   ]
  },
  {
   "cell_type": "markdown",
   "metadata": {},
   "source": [
    "Separate labeled data\n",
    "H= Health control\n",
    "M= MDD\n"
   ]
  },
  {
   "cell_type": "code",
   "execution_count": 3,
   "metadata": {},
   "outputs": [
    {
     "name": "stdout",
     "output_type": "stream",
     "text": [
      "9 9\n"
     ]
    }
   ],
   "source": [
    "healthy_file_path=[i for i in all_files_path if  'H' in i.split('\\\\')[1]]\n",
    "patient_file_path=[i for i in all_files_path if  'M' in i.split('\\\\')[1]]\n",
    "\n",
    "print(len(healthy_file_path),len(patient_file_path))"
   ]
  },
  {
   "cell_type": "markdown",
   "metadata": {},
   "source": [
    "Plot a data"
   ]
  },
  {
   "cell_type": "code",
   "execution_count": null,
   "metadata": {},
   "outputs": [],
   "source": [
    "%%capture\n",
    "H_data_for_plt = mne.io.read_raw_edf(healthy_file_path[1], preload=True)\n",
    "H_data_for_plt.pick_types(meg=False, eeg=True, eog=False, ecg=False) # Selecting EEG, EOG and ECG channels\n",
    "# Select a specific channel\n",
    "channel_to_keep = ['EEG Fp1-LE', 'EEG F3-LE', 'EEG C3-LE', 'EEG P3-LE', 'EEG O1-LE', 'EEG F7-LE', 'EEG T3-LE', 'EEG T5-LE', 'EEG Fz-LE', 'EEG Fp2-LE', 'EEG F4-LE', 'EEG C4-LE', 'EEG P4-LE', 'EEG O2-LE', 'EEG F8-LE', 'EEG T4-LE', 'EEG T6-LE', 'EEG Cz-LE', 'EEG Pz-LE']  \n",
    "# Replace with the name of the channel you want to keep\n",
    "H_data_for_plt.pick_channels(channel_to_keep)\n",
    "H_data_for_plt.set_eeg_reference()\n",
    "H_data_for_plt.filter(l_freq=30,h_freq=100)#1-4=delta, 4-8=theta, 8-12=alpha, 12-30=beta, 30-100=gamma\n",
    "# H_data_for_plt=mne.make_fixed_length_epochs(H_data_for_plt,duration=15,overlap=1)\n",
    "# H_data_for_plt=H_data_for_plt.get_data()"
   ]
  },
  {
   "cell_type": "code",
   "execution_count": null,
   "metadata": {},
   "outputs": [],
   "source": [
    "# H_data_for_plt.plot()"
   ]
  },
  {
   "cell_type": "markdown",
   "metadata": {},
   "source": [
    "Read data\n",
    "\n",
    "select gamma wave\n",
    "\n",
    "15 sec duration epochs\n",
    "\n",
    "Standardize features by removing the mean and scaling to unit variance.\n",
    "The standard score of a sample x is calculated as:\n",
    "z = (x - u) / s"
   ]
  },
  {
   "cell_type": "code",
   "execution_count": 4,
   "metadata": {},
   "outputs": [],
   "source": [
    "def read_data(file_path):\n",
    "    raw = mne.io.read_raw_edf(file_path, preload=True)\n",
    "    raw.pick_types(meg=False, eeg=True, eog=False, ecg=False) # Selecting EEG, EOG and ECG channels\n",
    "    # Select a specific channel\n",
    "    channel_to_keep = ['EEG Fp1-LE', 'EEG F3-LE', 'EEG C3-LE', 'EEG P3-LE', 'EEG O1-LE', 'EEG F7-LE', 'EEG T3-LE', 'EEG T5-LE', 'EEG Fz-LE', 'EEG Fp2-LE', 'EEG F4-LE', 'EEG C4-LE', 'EEG P4-LE', 'EEG O2-LE', 'EEG F8-LE', 'EEG T4-LE', 'EEG T6-LE', 'EEG Cz-LE', 'EEG Pz-LE']  \n",
    "    # Replace with the name of the channel you want to keep\n",
    "    raw.pick_channels(channel_to_keep)\n",
    "    raw.set_eeg_reference()\n",
    "    raw.filter(l_freq=30,h_freq=100)#1-4=delta, 4-8=theta, 8-12=alpha, 12-30=beta, 30-100=gamma\n",
    "    epochs=mne.make_fixed_length_epochs(raw,duration=15,overlap=1)\n",
    "    epochs=epochs.get_data()\n",
    "    scaler = StandardScaler()\n",
    "    data = scaler.fit_transform(epochs.reshape(-1,epochs.shape[-1])).reshape(epochs.shape)\n",
    "    return data #trials,channel,length"
   ]
  },
  {
   "cell_type": "code",
   "execution_count": 5,
   "metadata": {},
   "outputs": [],
   "source": [
    "%%capture\n",
    "control_epochs_array=[read_data(subject) for subject in healthy_file_path]\n",
    "patients_epochs_array=[read_data(subject) for subject in patient_file_path]"
   ]
  },
  {
   "cell_type": "code",
   "execution_count": 6,
   "metadata": {},
   "outputs": [
    {
     "name": "stdout",
     "output_type": "stream",
     "text": [
      "9 9\n"
     ]
    }
   ],
   "source": [
    "control_epochs_labels=[len(i)*[0] for i in control_epochs_array]\n",
    "patients_epochs_labels=[len(i)*[1] for i in patients_epochs_array]\n",
    "print(len(control_epochs_labels),len(patients_epochs_labels))"
   ]
  },
  {
   "cell_type": "code",
   "execution_count": 7,
   "metadata": {},
   "outputs": [
    {
     "name": "stdout",
     "output_type": "stream",
     "text": [
      "18 18 18\n"
     ]
    }
   ],
   "source": [
    "data_list=control_epochs_array+patients_epochs_array\n",
    "label_list=control_epochs_labels+patients_epochs_labels\n",
    "groups_list=[[i]*len(j) for i, j in enumerate(data_list)]\n",
    "print(len(data_list),len(label_list),len(groups_list))"
   ]
  },
  {
   "cell_type": "code",
   "execution_count": 8,
   "metadata": {},
   "outputs": [
    {
     "name": "stdout",
     "output_type": "stream",
     "text": [
      "(543, 19, 3840) (543,) (543,)\n"
     ]
    }
   ],
   "source": [
    "data_array=np.vstack(data_list)\n",
    "label_array=np.hstack(label_list)\n",
    "group_array=np.hstack(groups_list)\n",
    "print(data_array.shape,label_array.shape,group_array.shape)"
   ]
  },
  {
   "cell_type": "code",
   "execution_count": 9,
   "metadata": {},
   "outputs": [],
   "source": [
    "data_array=np.moveaxis(data_array,1,2)"
   ]
  },
  {
   "cell_type": "code",
   "execution_count": 10,
   "metadata": {},
   "outputs": [
    {
     "name": "stdout",
     "output_type": "stream",
     "text": [
      "Model: \"sequential\"\n",
      "_________________________________________________________________\n",
      " Layer (type)                Output Shape              Param #   \n",
      "=================================================================\n",
      " conv1d (Conv1D)             (None, 3838, 5)           290       \n",
      "                                                                 \n",
      " batch_normalization (Batch  (None, 3838, 5)           20        \n",
      " Normalization)                                                  \n",
      "                                                                 \n",
      " leaky_re_lu (LeakyReLU)     (None, 3838, 5)           0         \n",
      "                                                                 \n",
      " max_pooling1d (MaxPooling1  (None, 1919, 5)           0         \n",
      " D)                                                              \n",
      "                                                                 \n",
      " conv1d_1 (Conv1D)           (None, 1917, 5)           80        \n",
      "                                                                 \n",
      " leaky_re_lu_1 (LeakyReLU)   (None, 1917, 5)           0         \n",
      "                                                                 \n",
      " max_pooling1d_1 (MaxPoolin  (None, 958, 5)            0         \n",
      " g1D)                                                            \n",
      "                                                                 \n",
      " dropout (Dropout)           (None, 958, 5)            0         \n",
      "                                                                 \n",
      " conv1d_2 (Conv1D)           (None, 956, 5)            80        \n",
      "                                                                 \n",
      " leaky_re_lu_2 (LeakyReLU)   (None, 956, 5)            0         \n",
      "                                                                 \n",
      " average_pooling1d (Average  (None, 478, 5)            0         \n",
      " Pooling1D)                                                      \n",
      "                                                                 \n",
      " dropout_1 (Dropout)         (None, 478, 5)            0         \n",
      "                                                                 \n",
      " conv1d_3 (Conv1D)           (None, 476, 5)            80        \n",
      "                                                                 \n",
      " leaky_re_lu_3 (LeakyReLU)   (None, 476, 5)            0         \n",
      "                                                                 \n",
      " average_pooling1d_1 (Avera  (None, 238, 5)            0         \n",
      " gePooling1D)                                                    \n",
      "                                                                 \n",
      " conv1d_4 (Conv1D)           (None, 236, 5)            80        \n",
      "                                                                 \n",
      " leaky_re_lu_4 (LeakyReLU)   (None, 236, 5)            0         \n",
      "                                                                 \n",
      " global_average_pooling1d (  (None, 5)                 0         \n",
      " GlobalAveragePooling1D)                                         \n",
      "                                                                 \n",
      " dense (Dense)               (None, 1)                 6         \n",
      "                                                                 \n",
      "=================================================================\n",
      "Total params: 636 (2.48 KB)\n",
      "Trainable params: 626 (2.45 KB)\n",
      "Non-trainable params: 10 (40.00 Byte)\n",
      "_________________________________________________________________\n"
     ]
    }
   ],
   "source": [
    "def cnnmodel():\n",
    "    clear_session()\n",
    "    model=Sequential()\n",
    "    model.add(Conv1D(filters=5,kernel_size=3,strides=1,input_shape=(3840,19)))#1\n",
    "    model.add(BatchNormalization())\n",
    "    model.add(LeakyReLU())\n",
    "    model.add(MaxPool1D(pool_size=2,strides=2))#2\n",
    "    model.add(Conv1D(filters=5,kernel_size=3,strides=1))#3\n",
    "    model.add(LeakyReLU())\n",
    "    model.add(MaxPool1D(pool_size=2,strides=2))#4\n",
    "    model.add(Dropout(0.5))\n",
    "    model.add(Conv1D(filters=5,kernel_size=3,strides=1))#5\n",
    "    model.add(LeakyReLU())\n",
    "    model.add(AveragePooling1D(pool_size=2,strides=2))#6\n",
    "    model.add(Dropout(0.5))\n",
    "    model.add(Conv1D(filters=5,kernel_size=3,strides=1))#7\n",
    "    model.add(LeakyReLU())\n",
    "    model.add(AveragePooling1D(pool_size=2,strides=2))#8\n",
    "    model.add(Conv1D(filters=5,kernel_size=3,strides=1))#9\n",
    "    model.add(LeakyReLU())\n",
    "    model.add(GlobalAveragePooling1D())#10\n",
    "    model.add(Dense(1,activation='sigmoid'))#11\n",
    "    \n",
    "    model.compile('adam',loss='binary_crossentropy',metrics=['Accuracy', 'Precision', 'Recall','AUC'])\n",
    "    return model\n",
    "\n",
    "model=cnnmodel()\n",
    "model.summary()"
   ]
  },
  {
   "cell_type": "code",
   "execution_count": 11,
   "metadata": {},
   "outputs": [
    {
     "name": "stdout",
     "output_type": "stream",
     "text": [
      "Epoch 1/15\n",
      "16/16 [==============================] - 5s 124ms/step - loss: 0.6870 - Accuracy: 0.5171 - precision: 0.0000e+00 - recall: 0.0000e+00 - auc: 0.6172 - val_loss: 0.7127 - val_Accuracy: 0.0000e+00 - val_precision: 0.0000e+00 - val_recall: 0.0000e+00 - val_auc: 0.0000e+00\n",
      "Epoch 2/15\n",
      "16/16 [==============================] - 1s 73ms/step - loss: 0.6656 - Accuracy: 0.5171 - precision: 0.0000e+00 - recall: 0.0000e+00 - auc: 0.8150 - val_loss: 0.7347 - val_Accuracy: 0.0217 - val_precision: 1.0000 - val_recall: 0.0217 - val_auc: 0.0000e+00\n",
      "Epoch 3/15\n",
      "16/16 [==============================] - 1s 73ms/step - loss: 0.6266 - Accuracy: 0.5654 - precision: 1.0000 - recall: 0.1000 - auc: 0.8813 - val_loss: 0.7592 - val_Accuracy: 0.2391 - val_precision: 1.0000 - val_recall: 0.2391 - val_auc: 0.0000e+00\n",
      "Epoch 4/15\n",
      "16/16 [==============================] - 1s 71ms/step - loss: 0.5523 - Accuracy: 0.7364 - precision: 0.9360 - recall: 0.4875 - auc: 0.8995 - val_loss: 0.7033 - val_Accuracy: 0.5435 - val_precision: 1.0000 - val_recall: 0.5435 - val_auc: 0.0000e+00\n",
      "Epoch 5/15\n",
      "16/16 [==============================] - 1s 68ms/step - loss: 0.4450 - Accuracy: 0.8390 - precision: 0.8361 - recall: 0.8292 - auc: 0.9173 - val_loss: 0.5280 - val_Accuracy: 0.8478 - val_precision: 1.0000 - val_recall: 0.8478 - val_auc: 0.0000e+00\n",
      "Epoch 6/15\n",
      "16/16 [==============================] - 1s 67ms/step - loss: 0.3456 - Accuracy: 0.8813 - precision: 0.8390 - recall: 0.9333 - auc: 0.9445 - val_loss: 0.5640 - val_Accuracy: 0.7609 - val_precision: 1.0000 - val_recall: 0.7609 - val_auc: 0.0000e+00\n",
      "Epoch 7/15\n",
      "16/16 [==============================] - 1s 69ms/step - loss: 0.2762 - Accuracy: 0.8954 - precision: 0.8615 - recall: 0.9333 - auc: 0.9611 - val_loss: 0.4373 - val_Accuracy: 0.8261 - val_precision: 1.0000 - val_recall: 0.8261 - val_auc: 0.0000e+00\n",
      "Epoch 8/15\n",
      "16/16 [==============================] - 1s 71ms/step - loss: 0.2368 - Accuracy: 0.9054 - precision: 0.8814 - recall: 0.9292 - auc: 0.9677 - val_loss: 0.3844 - val_Accuracy: 0.8696 - val_precision: 1.0000 - val_recall: 0.8696 - val_auc: 0.0000e+00\n",
      "Epoch 9/15\n",
      "16/16 [==============================] - 1s 68ms/step - loss: 0.1840 - Accuracy: 0.9356 - precision: 0.8910 - recall: 0.9875 - auc: 0.9845 - val_loss: 0.4197 - val_Accuracy: 0.8478 - val_precision: 1.0000 - val_recall: 0.8478 - val_auc: 0.0000e+00\n",
      "Epoch 10/15\n",
      "16/16 [==============================] - 1s 68ms/step - loss: 0.1322 - Accuracy: 0.9678 - precision: 0.9628 - recall: 0.9708 - auc: 0.9951 - val_loss: 0.3876 - val_Accuracy: 0.8478 - val_precision: 1.0000 - val_recall: 0.8478 - val_auc: 0.0000e+00\n",
      "Epoch 11/15\n",
      "16/16 [==============================] - 1s 68ms/step - loss: 0.1193 - Accuracy: 0.9638 - precision: 0.9549 - recall: 0.9708 - auc: 0.9938 - val_loss: 0.2375 - val_Accuracy: 0.9130 - val_precision: 1.0000 - val_recall: 0.9130 - val_auc: 0.0000e+00\n",
      "Epoch 12/15\n",
      "16/16 [==============================] - 1s 68ms/step - loss: 0.1014 - Accuracy: 0.9618 - precision: 0.9585 - recall: 0.9625 - auc: 0.9956 - val_loss: 0.3257 - val_Accuracy: 0.8478 - val_precision: 1.0000 - val_recall: 0.8478 - val_auc: 0.0000e+00\n",
      "Epoch 13/15\n",
      "16/16 [==============================] - 1s 69ms/step - loss: 0.0853 - Accuracy: 0.9759 - precision: 0.9711 - recall: 0.9792 - auc: 0.9973 - val_loss: 0.2113 - val_Accuracy: 0.9565 - val_precision: 1.0000 - val_recall: 0.9565 - val_auc: 0.0000e+00\n",
      "Epoch 14/15\n",
      "16/16 [==============================] - 1s 68ms/step - loss: 0.0662 - Accuracy: 0.9839 - precision: 0.9715 - recall: 0.9958 - auc: 0.9990 - val_loss: 0.1715 - val_Accuracy: 1.0000 - val_precision: 1.0000 - val_recall: 1.0000 - val_auc: 0.0000e+00\n",
      "Epoch 15/15\n",
      "16/16 [==============================] - 1s 66ms/step - loss: 0.0579 - Accuracy: 0.9879 - precision: 0.9875 - recall: 0.9875 - auc: 0.9989 - val_loss: 0.1059 - val_Accuracy: 1.0000 - val_precision: 1.0000 - val_recall: 1.0000 - val_auc: 0.0000e+00\n",
      "2/2 [==============================] - 0s 21ms/step - loss: 0.1059 - Accuracy: 1.0000 - precision: 1.0000 - recall: 1.0000 - auc: 0.0000e+00\n",
      "Epoch 1/15\n",
      "16/16 [==============================] - 4s 104ms/step - loss: 0.6941 - Accuracy: 0.5703 - precision: 0.5726 - recall: 0.9930 - auc: 0.3094 - val_loss: 0.7262 - val_Accuracy: 0.0000e+00 - val_precision: 0.0000e+00 - val_recall: 0.0000e+00 - val_auc: 0.0000e+00\n",
      "Epoch 2/15\n",
      "16/16 [==============================] - 1s 68ms/step - loss: 0.6869 - Accuracy: 0.5743 - precision: 0.5743 - recall: 1.0000 - auc: 0.5444 - val_loss: 0.7700 - val_Accuracy: 0.0000e+00 - val_precision: 0.0000e+00 - val_recall: 0.0000e+00 - val_auc: 0.0000e+00\n",
      "Epoch 3/15\n",
      "16/16 [==============================] - 1s 68ms/step - loss: 0.6736 - Accuracy: 0.5743 - precision: 0.5743 - recall: 1.0000 - auc: 0.7010 - val_loss: 0.8457 - val_Accuracy: 0.0000e+00 - val_precision: 0.0000e+00 - val_recall: 0.0000e+00 - val_auc: 0.0000e+00\n",
      "Epoch 4/15\n",
      "16/16 [==============================] - 1s 68ms/step - loss: 0.6440 - Accuracy: 0.6566 - precision: 0.6258 - recall: 1.0000 - auc: 0.8159 - val_loss: 0.9614 - val_Accuracy: 0.0000e+00 - val_precision: 0.0000e+00 - val_recall: 0.0000e+00 - val_auc: 0.0000e+00\n",
      "Epoch 5/15\n",
      "16/16 [==============================] - 1s 68ms/step - loss: 0.5795 - Accuracy: 0.7651 - precision: 0.7097 - recall: 1.0000 - auc: 0.8835 - val_loss: 1.0491 - val_Accuracy: 0.0000e+00 - val_precision: 0.0000e+00 - val_recall: 0.0000e+00 - val_auc: 0.0000e+00\n",
      "Epoch 6/15\n",
      "16/16 [==============================] - 1s 69ms/step - loss: 0.4742 - Accuracy: 0.8313 - precision: 0.7730 - recall: 1.0000 - auc: 0.9289 - val_loss: 1.0435 - val_Accuracy: 0.0444 - val_precision: 0.0000e+00 - val_recall: 0.0000e+00 - val_auc: 0.0000e+00\n",
      "Epoch 7/15\n",
      "16/16 [==============================] - 1s 69ms/step - loss: 0.3598 - Accuracy: 0.8434 - precision: 0.7905 - recall: 0.9895 - auc: 0.9664 - val_loss: 0.9794 - val_Accuracy: 0.1111 - val_precision: 0.0000e+00 - val_recall: 0.0000e+00 - val_auc: 0.0000e+00\n",
      "Epoch 8/15\n",
      "16/16 [==============================] - 1s 67ms/step - loss: 0.2754 - Accuracy: 0.8835 - precision: 0.8353 - recall: 0.9930 - auc: 0.9771 - val_loss: 0.7756 - val_Accuracy: 0.3778 - val_precision: 0.0000e+00 - val_recall: 0.0000e+00 - val_auc: 0.0000e+00\n",
      "Epoch 9/15\n",
      "16/16 [==============================] - 1s 69ms/step - loss: 0.2161 - Accuracy: 0.9056 - precision: 0.8632 - recall: 0.9930 - auc: 0.9910 - val_loss: 0.4851 - val_Accuracy: 0.8889 - val_precision: 0.0000e+00 - val_recall: 0.0000e+00 - val_auc: 0.0000e+00\n",
      "Epoch 10/15\n",
      "16/16 [==============================] - 1s 67ms/step - loss: 0.1764 - Accuracy: 0.9498 - precision: 0.9336 - recall: 0.9825 - auc: 0.9915 - val_loss: 0.6536 - val_Accuracy: 0.5556 - val_precision: 0.0000e+00 - val_recall: 0.0000e+00 - val_auc: 0.0000e+00\n",
      "Epoch 11/15\n",
      "16/16 [==============================] - 1s 68ms/step - loss: 0.1439 - Accuracy: 0.9438 - precision: 0.9188 - recall: 0.9895 - auc: 0.9940 - val_loss: 0.2497 - val_Accuracy: 1.0000 - val_precision: 0.0000e+00 - val_recall: 0.0000e+00 - val_auc: 0.0000e+00\n",
      "Epoch 12/15\n",
      "16/16 [==============================] - 1s 68ms/step - loss: 0.1113 - Accuracy: 0.9719 - precision: 0.9823 - recall: 0.9685 - auc: 0.9976 - val_loss: 0.4042 - val_Accuracy: 0.8444 - val_precision: 0.0000e+00 - val_recall: 0.0000e+00 - val_auc: 0.0000e+00\n",
      "Epoch 13/15\n",
      "16/16 [==============================] - 1s 69ms/step - loss: 0.1034 - Accuracy: 0.9558 - precision: 0.9314 - recall: 0.9965 - auc: 0.9978 - val_loss: 0.1673 - val_Accuracy: 1.0000 - val_precision: 0.0000e+00 - val_recall: 0.0000e+00 - val_auc: 0.0000e+00\n",
      "Epoch 14/15\n",
      "16/16 [==============================] - 1s 68ms/step - loss: 0.0862 - Accuracy: 0.9819 - precision: 0.9929 - recall: 0.9755 - auc: 0.9987 - val_loss: 0.2258 - val_Accuracy: 0.9778 - val_precision: 0.0000e+00 - val_recall: 0.0000e+00 - val_auc: 0.0000e+00\n",
      "Epoch 15/15\n",
      "16/16 [==============================] - 1s 72ms/step - loss: 0.0679 - Accuracy: 0.9799 - precision: 0.9694 - recall: 0.9965 - auc: 0.9991 - val_loss: 0.1109 - val_Accuracy: 0.9778 - val_precision: 0.0000e+00 - val_recall: 0.0000e+00 - val_auc: 0.0000e+00\n",
      "2/2 [==============================] - 0s 25ms/step - loss: 0.1109 - Accuracy: 0.9778 - precision: 0.0000e+00 - recall: 0.0000e+00 - auc: 0.0000e+00\n",
      "Epoch 1/15\n",
      "16/16 [==============================] - 4s 104ms/step - loss: 0.6891 - Accuracy: 0.5683 - precision: 0.5404 - recall: 0.7220 - auc: 0.5884 - val_loss: 0.9370 - val_Accuracy: 0.0000e+00 - val_precision: 0.0000e+00 - val_recall: 0.0000e+00 - val_auc: 0.0000e+00\n",
      "Epoch 2/15\n",
      "16/16 [==============================] - 1s 68ms/step - loss: 0.6454 - Accuracy: 0.5462 - precision: 1.0000 - recall: 0.0622 - auc: 0.9206 - val_loss: 0.9385 - val_Accuracy: 0.0000e+00 - val_precision: 0.0000e+00 - val_recall: 0.0000e+00 - val_auc: 0.0000e+00\n",
      "Epoch 3/15\n",
      "16/16 [==============================] - 1s 67ms/step - loss: 0.5908 - Accuracy: 0.8755 - precision: 0.8943 - recall: 0.8423 - auc: 0.9541 - val_loss: 0.8503 - val_Accuracy: 0.0000e+00 - val_precision: 0.0000e+00 - val_recall: 0.0000e+00 - val_auc: 0.0000e+00\n",
      "Epoch 4/15\n",
      "16/16 [==============================] - 1s 67ms/step - loss: 0.4960 - Accuracy: 0.8996 - precision: 0.8282 - recall: 1.0000 - auc: 0.9817 - val_loss: 1.0206 - val_Accuracy: 0.0000e+00 - val_precision: 0.0000e+00 - val_recall: 0.0000e+00 - val_auc: 0.0000e+00\n",
      "Epoch 5/15\n",
      "16/16 [==============================] - 1s 71ms/step - loss: 0.3805 - Accuracy: 0.9458 - precision: 0.9180 - recall: 0.9751 - auc: 0.9850 - val_loss: 1.1581 - val_Accuracy: 0.0000e+00 - val_precision: 0.0000e+00 - val_recall: 0.0000e+00 - val_auc: 0.0000e+00\n",
      "Epoch 6/15\n",
      "16/16 [==============================] - 1s 67ms/step - loss: 0.2710 - Accuracy: 0.9398 - precision: 0.9011 - recall: 0.9834 - auc: 0.9880 - val_loss: 1.6209 - val_Accuracy: 0.0000e+00 - val_precision: 0.0000e+00 - val_recall: 0.0000e+00 - val_auc: 0.0000e+00\n",
      "Epoch 7/15\n",
      "16/16 [==============================] - 1s 69ms/step - loss: 0.1912 - Accuracy: 0.9538 - precision: 0.9658 - recall: 0.9378 - auc: 0.9932 - val_loss: 1.6834 - val_Accuracy: 0.0222 - val_precision: 1.0000 - val_recall: 0.0222 - val_auc: 0.0000e+00\n",
      "Epoch 8/15\n",
      "16/16 [==============================] - 1s 68ms/step - loss: 0.1421 - Accuracy: 0.9719 - precision: 0.9558 - recall: 0.9876 - auc: 0.9955 - val_loss: 2.4560 - val_Accuracy: 0.0000e+00 - val_precision: 0.0000e+00 - val_recall: 0.0000e+00 - val_auc: 0.0000e+00\n",
      "Epoch 9/15\n",
      "16/16 [==============================] - 1s 68ms/step - loss: 0.1123 - Accuracy: 0.9719 - precision: 0.9671 - recall: 0.9751 - auc: 0.9960 - val_loss: 2.4081 - val_Accuracy: 0.0000e+00 - val_precision: 0.0000e+00 - val_recall: 0.0000e+00 - val_auc: 0.0000e+00\n",
      "Epoch 10/15\n",
      "16/16 [==============================] - 1s 67ms/step - loss: 0.0909 - Accuracy: 0.9819 - precision: 0.9833 - recall: 0.9793 - auc: 0.9968 - val_loss: 3.0043 - val_Accuracy: 0.0000e+00 - val_precision: 0.0000e+00 - val_recall: 0.0000e+00 - val_auc: 0.0000e+00\n",
      "Epoch 11/15\n",
      "16/16 [==============================] - 1s 72ms/step - loss: 0.0732 - Accuracy: 0.9819 - precision: 0.9715 - recall: 0.9917 - auc: 0.9987 - val_loss: 3.2133 - val_Accuracy: 0.0000e+00 - val_precision: 0.0000e+00 - val_recall: 0.0000e+00 - val_auc: 0.0000e+00\n",
      "Epoch 12/15\n",
      "16/16 [==============================] - 1s 66ms/step - loss: 0.0610 - Accuracy: 0.9839 - precision: 0.9834 - recall: 0.9834 - auc: 0.9993 - val_loss: 3.1368 - val_Accuracy: 0.0000e+00 - val_precision: 0.0000e+00 - val_recall: 0.0000e+00 - val_auc: 0.0000e+00\n",
      "Epoch 13/15\n",
      "16/16 [==============================] - 1s 69ms/step - loss: 0.0663 - Accuracy: 0.9859 - precision: 0.9795 - recall: 0.9917 - auc: 0.9976 - val_loss: 3.1188 - val_Accuracy: 0.0000e+00 - val_precision: 0.0000e+00 - val_recall: 0.0000e+00 - val_auc: 0.0000e+00\n",
      "Epoch 14/15\n",
      "16/16 [==============================] - 1s 67ms/step - loss: 0.0621 - Accuracy: 0.9779 - precision: 0.9713 - recall: 0.9834 - auc: 0.9988 - val_loss: 3.0108 - val_Accuracy: 0.0222 - val_precision: 1.0000 - val_recall: 0.0222 - val_auc: 0.0000e+00\n",
      "Epoch 15/15\n",
      "16/16 [==============================] - 1s 68ms/step - loss: 0.0423 - Accuracy: 0.9880 - precision: 0.9796 - recall: 0.9959 - auc: 0.9995 - val_loss: 3.6396 - val_Accuracy: 0.0000e+00 - val_precision: 0.0000e+00 - val_recall: 0.0000e+00 - val_auc: 0.0000e+00\n",
      "2/2 [==============================] - 0s 22ms/step - loss: 3.6396 - Accuracy: 0.0000e+00 - precision: 0.0000e+00 - recall: 0.0000e+00 - auc: 0.0000e+00\n",
      "Epoch 1/15\n",
      "16/16 [==============================] - 4s 103ms/step - loss: 0.6894 - Accuracy: 0.4920 - precision: 0.3571 - recall: 0.0622 - auc: 0.5557 - val_loss: 0.8182 - val_Accuracy: 0.0000e+00 - val_precision: 0.0000e+00 - val_recall: 0.0000e+00 - val_auc: 0.0000e+00\n",
      "Epoch 2/15\n",
      "16/16 [==============================] - 1s 72ms/step - loss: 0.6738 - Accuracy: 0.5161 - precision: 0.0000e+00 - recall: 0.0000e+00 - auc: 0.7618 - val_loss: 0.8639 - val_Accuracy: 0.0000e+00 - val_precision: 0.0000e+00 - val_recall: 0.0000e+00 - val_auc: 0.0000e+00\n",
      "Epoch 3/15\n",
      "16/16 [==============================] - 1s 69ms/step - loss: 0.6575 - Accuracy: 0.5181 - precision: 1.0000 - recall: 0.0041 - auc: 0.8331 - val_loss: 0.8743 - val_Accuracy: 0.0000e+00 - val_precision: 0.0000e+00 - val_recall: 0.0000e+00 - val_auc: 0.0000e+00\n",
      "Epoch 4/15\n",
      "16/16 [==============================] - 1s 69ms/step - loss: 0.6358 - Accuracy: 0.5341 - precision: 1.0000 - recall: 0.0373 - auc: 0.8549 - val_loss: 0.9160 - val_Accuracy: 0.0000e+00 - val_precision: 0.0000e+00 - val_recall: 0.0000e+00 - val_auc: 0.0000e+00\n",
      "Epoch 5/15\n",
      "16/16 [==============================] - 1s 68ms/step - loss: 0.6086 - Accuracy: 0.5683 - precision: 1.0000 - recall: 0.1079 - auc: 0.8750 - val_loss: 0.8770 - val_Accuracy: 0.0000e+00 - val_precision: 0.0000e+00 - val_recall: 0.0000e+00 - val_auc: 0.0000e+00\n",
      "Epoch 6/15\n",
      "16/16 [==============================] - 1s 69ms/step - loss: 0.5778 - Accuracy: 0.6044 - precision: 1.0000 - recall: 0.1826 - auc: 0.8926 - val_loss: 0.8931 - val_Accuracy: 0.0000e+00 - val_precision: 0.0000e+00 - val_recall: 0.0000e+00 - val_auc: 0.0000e+00\n",
      "Epoch 7/15\n",
      "16/16 [==============================] - 1s 70ms/step - loss: 0.5333 - Accuracy: 0.7028 - precision: 0.9895 - recall: 0.3900 - auc: 0.9224 - val_loss: 0.7787 - val_Accuracy: 0.1778 - val_precision: 1.0000 - val_recall: 0.1778 - val_auc: 0.0000e+00\n",
      "Epoch 8/15\n",
      "16/16 [==============================] - 1s 68ms/step - loss: 0.4888 - Accuracy: 0.8173 - precision: 0.9464 - recall: 0.6598 - auc: 0.9407 - val_loss: 0.6866 - val_Accuracy: 0.7556 - val_precision: 1.0000 - val_recall: 0.7556 - val_auc: 0.0000e+00\n",
      "Epoch 9/15\n",
      "16/16 [==============================] - 1s 67ms/step - loss: 0.4344 - Accuracy: 0.8655 - precision: 0.8783 - recall: 0.8382 - auc: 0.9532 - val_loss: 0.5236 - val_Accuracy: 0.8444 - val_precision: 1.0000 - val_recall: 0.8444 - val_auc: 0.0000e+00\n",
      "Epoch 10/15\n",
      "16/16 [==============================] - 1s 67ms/step - loss: 0.3753 - Accuracy: 0.8855 - precision: 0.8566 - recall: 0.9170 - auc: 0.9673 - val_loss: 0.3899 - val_Accuracy: 0.8667 - val_precision: 1.0000 - val_recall: 0.8667 - val_auc: 0.0000e+00\n",
      "Epoch 11/15\n",
      "16/16 [==============================] - 1s 67ms/step - loss: 0.3263 - Accuracy: 0.8876 - precision: 0.8599 - recall: 0.9170 - auc: 0.9670 - val_loss: 0.2771 - val_Accuracy: 0.8889 - val_precision: 1.0000 - val_recall: 0.8889 - val_auc: 0.0000e+00\n",
      "Epoch 12/15\n",
      "16/16 [==============================] - 1s 70ms/step - loss: 0.2724 - Accuracy: 0.9116 - precision: 0.8893 - recall: 0.9336 - auc: 0.9792 - val_loss: 0.2771 - val_Accuracy: 0.8889 - val_precision: 1.0000 - val_recall: 0.8889 - val_auc: 0.0000e+00\n",
      "Epoch 13/15\n",
      "16/16 [==============================] - 1s 68ms/step - loss: 0.2257 - Accuracy: 0.9317 - precision: 0.9124 - recall: 0.9502 - auc: 0.9856 - val_loss: 0.1672 - val_Accuracy: 0.9333 - val_precision: 1.0000 - val_recall: 0.9333 - val_auc: 0.0000e+00\n",
      "Epoch 14/15\n",
      "16/16 [==============================] - 1s 68ms/step - loss: 0.1993 - Accuracy: 0.9317 - precision: 0.9224 - recall: 0.9378 - auc: 0.9852 - val_loss: 0.1876 - val_Accuracy: 0.8889 - val_precision: 1.0000 - val_recall: 0.8889 - val_auc: 0.0000e+00\n",
      "Epoch 15/15\n",
      "16/16 [==============================] - 1s 68ms/step - loss: 0.1705 - Accuracy: 0.9378 - precision: 0.9303 - recall: 0.9419 - auc: 0.9897 - val_loss: 0.1406 - val_Accuracy: 0.9333 - val_precision: 1.0000 - val_recall: 0.9333 - val_auc: 0.0000e+00\n",
      "2/2 [==============================] - 0s 20ms/step - loss: 0.1406 - Accuracy: 0.9333 - precision: 1.0000 - recall: 0.9333 - auc: 0.0000e+00\n",
      "Epoch 1/15\n",
      "16/16 [==============================] - 4s 104ms/step - loss: 0.6927 - Accuracy: 0.4819 - precision: 0.4351 - recall: 0.2365 - auc: 0.5006 - val_loss: 0.7249 - val_Accuracy: 0.0000e+00 - val_precision: 0.0000e+00 - val_recall: 0.0000e+00 - val_auc: 0.0000e+00\n",
      "Epoch 2/15\n",
      "16/16 [==============================] - 1s 75ms/step - loss: 0.6798 - Accuracy: 0.5161 - precision: 0.0000e+00 - recall: 0.0000e+00 - auc: 0.6978 - val_loss: 0.7440 - val_Accuracy: 0.0000e+00 - val_precision: 0.0000e+00 - val_recall: 0.0000e+00 - val_auc: 0.0000e+00\n",
      "Epoch 3/15\n",
      "16/16 [==============================] - 1s 67ms/step - loss: 0.6525 - Accuracy: 0.5161 - precision: 0.0000e+00 - recall: 0.0000e+00 - auc: 0.8212 - val_loss: 0.7738 - val_Accuracy: 0.0000e+00 - val_precision: 0.0000e+00 - val_recall: 0.0000e+00 - val_auc: 0.0000e+00\n",
      "Epoch 4/15\n",
      "16/16 [==============================] - 1s 67ms/step - loss: 0.6160 - Accuracy: 0.5161 - precision: 0.0000e+00 - recall: 0.0000e+00 - auc: 0.8768 - val_loss: 0.7621 - val_Accuracy: 0.1111 - val_precision: 1.0000 - val_recall: 0.1111 - val_auc: 0.0000e+00\n",
      "Epoch 5/15\n",
      "16/16 [==============================] - 1s 69ms/step - loss: 0.5774 - Accuracy: 0.5562 - precision: 1.0000 - recall: 0.0830 - auc: 0.9146 - val_loss: 0.6839 - val_Accuracy: 0.6667 - val_precision: 1.0000 - val_recall: 0.6667 - val_auc: 0.0000e+00\n",
      "Epoch 6/15\n",
      "16/16 [==============================] - 1s 68ms/step - loss: 0.5272 - Accuracy: 0.7108 - precision: 1.0000 - recall: 0.4025 - auc: 0.9568 - val_loss: 0.6000 - val_Accuracy: 1.0000 - val_precision: 1.0000 - val_recall: 1.0000 - val_auc: 0.0000e+00\n",
      "Epoch 7/15\n",
      "16/16 [==============================] - 1s 71ms/step - loss: 0.4608 - Accuracy: 0.8936 - precision: 0.9234 - recall: 0.8506 - auc: 0.9720 - val_loss: 0.4481 - val_Accuracy: 1.0000 - val_precision: 1.0000 - val_recall: 1.0000 - val_auc: 0.0000e+00\n",
      "Epoch 8/15\n",
      "16/16 [==============================] - 1s 67ms/step - loss: 0.3786 - Accuracy: 0.9076 - precision: 0.8598 - recall: 0.9668 - auc: 0.9778 - val_loss: 0.3210 - val_Accuracy: 1.0000 - val_precision: 1.0000 - val_recall: 1.0000 - val_auc: 0.0000e+00\n",
      "Epoch 9/15\n",
      "16/16 [==============================] - 1s 68ms/step - loss: 0.2752 - Accuracy: 0.9538 - precision: 0.9467 - recall: 0.9585 - auc: 0.9898 - val_loss: 0.1769 - val_Accuracy: 1.0000 - val_precision: 1.0000 - val_recall: 1.0000 - val_auc: 0.0000e+00\n",
      "Epoch 10/15\n",
      "16/16 [==============================] - 1s 70ms/step - loss: 0.2125 - Accuracy: 0.9438 - precision: 0.9347 - recall: 0.9502 - auc: 0.9873 - val_loss: 0.1018 - val_Accuracy: 1.0000 - val_precision: 1.0000 - val_recall: 1.0000 - val_auc: 0.0000e+00\n",
      "Epoch 11/15\n",
      "16/16 [==============================] - 1s 71ms/step - loss: 0.1493 - Accuracy: 0.9618 - precision: 0.9440 - recall: 0.9793 - auc: 0.9944 - val_loss: 0.0706 - val_Accuracy: 1.0000 - val_precision: 1.0000 - val_recall: 1.0000 - val_auc: 0.0000e+00\n",
      "Epoch 12/15\n",
      "16/16 [==============================] - 1s 69ms/step - loss: 0.1060 - Accuracy: 0.9719 - precision: 0.9633 - recall: 0.9793 - auc: 0.9974 - val_loss: 0.0414 - val_Accuracy: 1.0000 - val_precision: 1.0000 - val_recall: 1.0000 - val_auc: 0.0000e+00\n",
      "Epoch 13/15\n",
      "16/16 [==============================] - 1s 69ms/step - loss: 0.0993 - Accuracy: 0.9578 - precision: 0.9661 - recall: 0.9461 - auc: 0.9964 - val_loss: 0.0346 - val_Accuracy: 1.0000 - val_precision: 1.0000 - val_recall: 1.0000 - val_auc: 0.0000e+00\n",
      "Epoch 14/15\n",
      "16/16 [==============================] - 1s 70ms/step - loss: 0.0642 - Accuracy: 0.9859 - precision: 0.9835 - recall: 0.9876 - auc: 0.9994 - val_loss: 0.0299 - val_Accuracy: 1.0000 - val_precision: 1.0000 - val_recall: 1.0000 - val_auc: 0.0000e+00\n",
      "Epoch 15/15\n",
      "16/16 [==============================] - 1s 71ms/step - loss: 0.0542 - Accuracy: 0.9920 - precision: 0.9958 - recall: 0.9876 - auc: 0.9994 - val_loss: 0.0200 - val_Accuracy: 1.0000 - val_precision: 1.0000 - val_recall: 1.0000 - val_auc: 0.0000e+00\n",
      "2/2 [==============================] - 0s 20ms/step - loss: 0.0200 - Accuracy: 1.0000 - precision: 1.0000 - recall: 1.0000 - auc: 0.0000e+00\n",
      "Epoch 1/15\n",
      "15/15 [==============================] - 5s 111ms/step - loss: 0.7007 - Accuracy: 0.4509 - precision: 1.0000 - recall: 0.0075 - auc: 0.6942 - val_loss: 0.7231 - val_Accuracy: 0.3281 - val_precision: 0.3281 - val_recall: 1.0000 - val_auc: 0.0000e+00\n",
      "Epoch 2/15\n",
      "15/15 [==============================] - 1s 73ms/step - loss: 0.6831 - Accuracy: 0.5177 - precision: 1.0000 - recall: 0.1283 - auc: 0.7774 - val_loss: 0.7368 - val_Accuracy: 0.3281 - val_precision: 0.3281 - val_recall: 1.0000 - val_auc: 0.0000e+00\n",
      "Epoch 3/15\n",
      "15/15 [==============================] - 1s 76ms/step - loss: 0.6723 - Accuracy: 0.5678 - precision: 1.0000 - recall: 0.2189 - auc: 0.8114 - val_loss: 0.6911 - val_Accuracy: 0.3281 - val_precision: 0.3281 - val_recall: 1.0000 - val_auc: 0.9900\n",
      "Epoch 4/15\n",
      "15/15 [==============================] - 1s 73ms/step - loss: 0.6493 - Accuracy: 0.5658 - precision: 1.0000 - recall: 0.2151 - auc: 0.8464 - val_loss: 0.5705 - val_Accuracy: 0.9844 - val_precision: 1.0000 - val_recall: 0.9524 - val_auc: 1.0000\n",
      "Epoch 5/15\n",
      "15/15 [==============================] - 1s 77ms/step - loss: 0.6202 - Accuracy: 0.5846 - precision: 1.0000 - recall: 0.2491 - auc: 0.8824 - val_loss: 0.4611 - val_Accuracy: 0.9844 - val_precision: 1.0000 - val_recall: 0.9524 - val_auc: 1.0000\n",
      "Epoch 6/15\n",
      "15/15 [==============================] - 1s 74ms/step - loss: 0.5923 - Accuracy: 0.6159 - precision: 1.0000 - recall: 0.3057 - auc: 0.8988 - val_loss: 0.3795 - val_Accuracy: 1.0000 - val_precision: 1.0000 - val_recall: 1.0000 - val_auc: 1.0000\n",
      "Epoch 7/15\n",
      "15/15 [==============================] - 1s 72ms/step - loss: 0.5578 - Accuracy: 0.7933 - precision: 0.9150 - recall: 0.6906 - auc: 0.9311 - val_loss: 0.3229 - val_Accuracy: 1.0000 - val_precision: 1.0000 - val_recall: 1.0000 - val_auc: 1.0000\n",
      "Epoch 8/15\n",
      "15/15 [==============================] - 1s 74ms/step - loss: 0.5212 - Accuracy: 0.8288 - precision: 0.9336 - recall: 0.7434 - auc: 0.9486 - val_loss: 0.2440 - val_Accuracy: 1.0000 - val_precision: 1.0000 - val_recall: 1.0000 - val_auc: 1.0000\n",
      "Epoch 9/15\n",
      "15/15 [==============================] - 1s 79ms/step - loss: 0.4804 - Accuracy: 0.8727 - precision: 0.9435 - recall: 0.8189 - auc: 0.9555 - val_loss: 0.1960 - val_Accuracy: 1.0000 - val_precision: 1.0000 - val_recall: 1.0000 - val_auc: 1.0000\n",
      "Epoch 10/15\n",
      "15/15 [==============================] - 1s 74ms/step - loss: 0.4271 - Accuracy: 0.8935 - precision: 0.9385 - recall: 0.8642 - auc: 0.9673 - val_loss: 0.1458 - val_Accuracy: 1.0000 - val_precision: 1.0000 - val_recall: 1.0000 - val_auc: 1.0000\n",
      "Epoch 11/15\n",
      "15/15 [==============================] - 1s 77ms/step - loss: 0.3531 - Accuracy: 0.9061 - precision: 0.8873 - recall: 0.9509 - auc: 0.9748 - val_loss: 0.1083 - val_Accuracy: 1.0000 - val_precision: 1.0000 - val_recall: 1.0000 - val_auc: 1.0000\n",
      "Epoch 12/15\n",
      "15/15 [==============================] - 1s 75ms/step - loss: 0.2673 - Accuracy: 0.9311 - precision: 0.9462 - recall: 0.9283 - auc: 0.9832 - val_loss: 0.0710 - val_Accuracy: 1.0000 - val_precision: 1.0000 - val_recall: 1.0000 - val_auc: 1.0000\n",
      "Epoch 13/15\n",
      "15/15 [==============================] - 1s 80ms/step - loss: 0.1984 - Accuracy: 0.9374 - precision: 0.9304 - recall: 0.9585 - auc: 0.9901 - val_loss: 0.1058 - val_Accuracy: 1.0000 - val_precision: 1.0000 - val_recall: 1.0000 - val_auc: 1.0000\n",
      "Epoch 14/15\n",
      "15/15 [==============================] - 1s 78ms/step - loss: 0.1517 - Accuracy: 0.9582 - precision: 0.9658 - recall: 0.9585 - auc: 0.9933 - val_loss: 0.0880 - val_Accuracy: 0.9844 - val_precision: 1.0000 - val_recall: 0.9524 - val_auc: 1.0000\n",
      "Epoch 15/15\n",
      "15/15 [==============================] - 1s 74ms/step - loss: 0.1123 - Accuracy: 0.9729 - precision: 0.9701 - recall: 0.9811 - auc: 0.9968 - val_loss: 0.1785 - val_Accuracy: 0.9062 - val_precision: 1.0000 - val_recall: 0.7143 - val_auc: 1.0000\n",
      "2/2 [==============================] - 0s 31ms/step - loss: 0.1785 - Accuracy: 0.9062 - precision: 1.0000 - recall: 0.7143 - auc: 1.0000           \n",
      "Epoch 1/15\n",
      "15/15 [==============================] - 4s 112ms/step - loss: 0.6891 - Accuracy: 0.5428 - precision: 0.5879 - recall: 0.7832 - auc: 0.5068 - val_loss: 0.8827 - val_Accuracy: 0.0000e+00 - val_precision: 0.0000e+00 - val_recall: 0.0000e+00 - val_auc: 0.0000e+00\n",
      "Epoch 2/15\n",
      "15/15 [==============================] - 1s 79ms/step - loss: 0.6734 - Accuracy: 0.5971 - precision: 0.5971 - recall: 1.0000 - auc: 0.6445 - val_loss: 0.9526 - val_Accuracy: 0.0000e+00 - val_precision: 0.0000e+00 - val_recall: 0.0000e+00 - val_auc: 0.0000e+00\n",
      "Epoch 3/15\n",
      "15/15 [==============================] - 1s 80ms/step - loss: 0.6456 - Accuracy: 0.7307 - precision: 0.6919 - recall: 0.9895 - auc: 0.7821 - val_loss: 0.9391 - val_Accuracy: 0.0000e+00 - val_precision: 0.0000e+00 - val_recall: 0.0000e+00 - val_auc: 0.0000e+00\n",
      "Epoch 4/15\n",
      "15/15 [==============================] - 1s 78ms/step - loss: 0.5825 - Accuracy: 0.7996 - precision: 0.7513 - recall: 0.9930 - auc: 0.9259 - val_loss: 1.0531 - val_Accuracy: 0.0000e+00 - val_precision: 0.0000e+00 - val_recall: 0.0000e+00 - val_auc: 0.0000e+00\n",
      "Epoch 5/15\n",
      "15/15 [==============================] - 1s 78ms/step - loss: 0.5027 - Accuracy: 0.7954 - precision: 0.7448 - recall: 1.0000 - auc: 0.9414 - val_loss: 1.2848 - val_Accuracy: 0.0000e+00 - val_precision: 0.0000e+00 - val_recall: 0.0000e+00 - val_auc: 0.0000e+00\n",
      "Epoch 6/15\n",
      "15/15 [==============================] - 1s 84ms/step - loss: 0.4359 - Accuracy: 0.8038 - precision: 0.7567 - recall: 0.9895 - auc: 0.9459 - val_loss: 1.3588 - val_Accuracy: 0.0000e+00 - val_precision: 0.0000e+00 - val_recall: 0.0000e+00 - val_auc: 0.0000e+00\n",
      "Epoch 7/15\n",
      "15/15 [==============================] - 1s 78ms/step - loss: 0.3672 - Accuracy: 0.8142 - precision: 0.7641 - recall: 0.9965 - auc: 0.9688 - val_loss: 1.2928 - val_Accuracy: 0.0000e+00 - val_precision: 0.0000e+00 - val_recall: 0.0000e+00 - val_auc: 0.0000e+00\n",
      "Epoch 8/15\n",
      "15/15 [==============================] - 1s 81ms/step - loss: 0.3152 - Accuracy: 0.9102 - precision: 0.8809 - recall: 0.9825 - auc: 0.9751 - val_loss: 1.5373 - val_Accuracy: 0.0000e+00 - val_precision: 0.0000e+00 - val_recall: 0.0000e+00 - val_auc: 0.0000e+00\n",
      "Epoch 9/15\n",
      "15/15 [==============================] - 1s 79ms/step - loss: 0.2531 - Accuracy: 0.9353 - precision: 0.9153 - recall: 0.9825 - auc: 0.9830 - val_loss: 1.4856 - val_Accuracy: 0.0312 - val_precision: 0.0000e+00 - val_recall: 0.0000e+00 - val_auc: 0.0000e+00\n",
      "Epoch 10/15\n",
      "15/15 [==============================] - 1s 81ms/step - loss: 0.2112 - Accuracy: 0.9332 - precision: 0.9262 - recall: 0.9650 - auc: 0.9919 - val_loss: 1.2051 - val_Accuracy: 0.3906 - val_precision: 0.0000e+00 - val_recall: 0.0000e+00 - val_auc: 0.0000e+00\n",
      "Epoch 11/15\n",
      "15/15 [==============================] - 1s 81ms/step - loss: 0.1738 - Accuracy: 0.9520 - precision: 0.9519 - recall: 0.9685 - auc: 0.9922 - val_loss: 1.6054 - val_Accuracy: 0.0625 - val_precision: 0.0000e+00 - val_recall: 0.0000e+00 - val_auc: 0.0000e+00\n",
      "Epoch 12/15\n",
      "15/15 [==============================] - 1s 77ms/step - loss: 0.1383 - Accuracy: 0.9582 - precision: 0.9555 - recall: 0.9755 - auc: 0.9959 - val_loss: 1.4512 - val_Accuracy: 0.1562 - val_precision: 0.0000e+00 - val_recall: 0.0000e+00 - val_auc: 0.0000e+00\n",
      "Epoch 13/15\n",
      "15/15 [==============================] - 1s 82ms/step - loss: 0.1333 - Accuracy: 0.9562 - precision: 0.9431 - recall: 0.9860 - auc: 0.9945 - val_loss: 1.7272 - val_Accuracy: 0.0938 - val_precision: 0.0000e+00 - val_recall: 0.0000e+00 - val_auc: 0.0000e+00\n",
      "Epoch 14/15\n",
      "15/15 [==============================] - 1s 87ms/step - loss: 0.1032 - Accuracy: 0.9833 - precision: 0.9894 - recall: 0.9825 - auc: 0.9985 - val_loss: 2.3351 - val_Accuracy: 0.0000e+00 - val_precision: 0.0000e+00 - val_recall: 0.0000e+00 - val_auc: 0.0000e+00\n",
      "Epoch 15/15\n",
      "15/15 [==============================] - 1s 80ms/step - loss: 0.0895 - Accuracy: 0.9749 - precision: 0.9692 - recall: 0.9895 - auc: 0.9987 - val_loss: 0.7122 - val_Accuracy: 0.6719 - val_precision: 0.0000e+00 - val_recall: 0.0000e+00 - val_auc: 0.0000e+00\n",
      "2/2 [==============================] - 0s 36ms/step - loss: 0.7122 - Accuracy: 0.6719 - precision: 0.0000e+00 - recall: 0.0000e+00 - auc: 0.0000e+00\n",
      "Epoch 1/15\n",
      "15/15 [==============================] - 4s 119ms/step - loss: 0.6896 - Accuracy: 0.5083 - precision: 1.0000 - recall: 0.0328 - auc: 0.6218 - val_loss: 0.6920 - val_Accuracy: 0.3333 - val_precision: 0.0000e+00 - val_recall: 0.0000e+00 - val_auc: 1.0000\n",
      "Epoch 2/15\n",
      "15/15 [==============================] - 1s 84ms/step - loss: 0.6805 - Accuracy: 0.5208 - precision: 1.0000 - recall: 0.0574 - auc: 0.7494 - val_loss: 0.6799 - val_Accuracy: 0.3333 - val_precision: 0.0000e+00 - val_recall: 0.0000e+00 - val_auc: 1.0000\n",
      "Epoch 3/15\n",
      "15/15 [==============================] - 1s 81ms/step - loss: 0.6665 - Accuracy: 0.5229 - precision: 1.0000 - recall: 0.0615 - auc: 0.7992 - val_loss: 0.6600 - val_Accuracy: 0.3333 - val_precision: 0.0000e+00 - val_recall: 0.0000e+00 - val_auc: 1.0000\n",
      "Epoch 4/15\n",
      "15/15 [==============================] - 1s 82ms/step - loss: 0.6358 - Accuracy: 0.5979 - precision: 1.0000 - recall: 0.2090 - auc: 0.8917 - val_loss: 0.6111 - val_Accuracy: 0.3333 - val_precision: 0.0000e+00 - val_recall: 0.0000e+00 - val_auc: 1.0000\n",
      "Epoch 5/15\n",
      "15/15 [==============================] - 1s 82ms/step - loss: 0.5826 - Accuracy: 0.6750 - precision: 1.0000 - recall: 0.3607 - auc: 0.9285 - val_loss: 0.5467 - val_Accuracy: 0.3333 - val_precision: 0.0000e+00 - val_recall: 0.0000e+00 - val_auc: 1.0000\n",
      "Epoch 6/15\n",
      "15/15 [==============================] - 1s 86ms/step - loss: 0.5045 - Accuracy: 0.8542 - precision: 0.9265 - recall: 0.7746 - auc: 0.9477 - val_loss: 0.3983 - val_Accuracy: 0.9683 - val_precision: 1.0000 - val_recall: 0.9524 - val_auc: 1.0000\n",
      "Epoch 7/15\n",
      "15/15 [==============================] - 1s 81ms/step - loss: 0.4080 - Accuracy: 0.9000 - precision: 0.9188 - recall: 0.8811 - auc: 0.9663 - val_loss: 0.2892 - val_Accuracy: 1.0000 - val_precision: 1.0000 - val_recall: 1.0000 - val_auc: 1.0000\n",
      "Epoch 8/15\n",
      "15/15 [==============================] - 1s 82ms/step - loss: 0.3150 - Accuracy: 0.9146 - precision: 0.8919 - recall: 0.9467 - auc: 0.9781 - val_loss: 0.2120 - val_Accuracy: 1.0000 - val_precision: 1.0000 - val_recall: 1.0000 - val_auc: 1.0000\n",
      "Epoch 9/15\n",
      "15/15 [==============================] - 1s 84ms/step - loss: 0.2353 - Accuracy: 0.9292 - precision: 0.9375 - recall: 0.9221 - auc: 0.9859 - val_loss: 0.1419 - val_Accuracy: 1.0000 - val_precision: 1.0000 - val_recall: 1.0000 - val_auc: 1.0000\n",
      "Epoch 10/15\n",
      "15/15 [==============================] - 1s 85ms/step - loss: 0.1843 - Accuracy: 0.9417 - precision: 0.9390 - recall: 0.9467 - auc: 0.9899 - val_loss: 0.1392 - val_Accuracy: 1.0000 - val_precision: 1.0000 - val_recall: 1.0000 - val_auc: 1.0000\n",
      "Epoch 11/15\n",
      "15/15 [==============================] - 1s 82ms/step - loss: 0.1329 - Accuracy: 0.9688 - precision: 0.9636 - recall: 0.9754 - auc: 0.9961 - val_loss: 0.1096 - val_Accuracy: 1.0000 - val_precision: 1.0000 - val_recall: 1.0000 - val_auc: 1.0000\n",
      "Epoch 12/15\n",
      "15/15 [==============================] - 1s 80ms/step - loss: 0.1117 - Accuracy: 0.9750 - precision: 0.9833 - recall: 0.9672 - auc: 0.9955 - val_loss: 0.0781 - val_Accuracy: 1.0000 - val_precision: 1.0000 - val_recall: 1.0000 - val_auc: 1.0000\n",
      "Epoch 13/15\n",
      "15/15 [==============================] - 1s 89ms/step - loss: 0.0908 - Accuracy: 0.9750 - precision: 0.9874 - recall: 0.9631 - auc: 0.9970 - val_loss: 0.1080 - val_Accuracy: 1.0000 - val_precision: 1.0000 - val_recall: 1.0000 - val_auc: 1.0000\n",
      "Epoch 14/15\n",
      "15/15 [==============================] - 1s 83ms/step - loss: 0.0704 - Accuracy: 0.9812 - precision: 0.9835 - recall: 0.9795 - auc: 0.9984 - val_loss: 0.1055 - val_Accuracy: 1.0000 - val_precision: 1.0000 - val_recall: 1.0000 - val_auc: 1.0000\n",
      "Epoch 15/15\n",
      "15/15 [==============================] - 1s 82ms/step - loss: 0.0679 - Accuracy: 0.9875 - precision: 0.9917 - recall: 0.9836 - auc: 0.9976 - val_loss: 0.0829 - val_Accuracy: 1.0000 - val_precision: 1.0000 - val_recall: 1.0000 - val_auc: 1.0000\n",
      "2/2 [==============================] - 0s 34ms/step - loss: 0.0829 - Accuracy: 1.0000 - precision: 1.0000 - recall: 1.0000 - auc: 1.0000\n",
      "Epoch 1/15\n",
      "15/15 [==============================] - 4s 129ms/step - loss: 0.6851 - Accuracy: 0.5521 - precision: 0.5521 - recall: 1.0000 - auc: 0.5745 - val_loss: 0.7205 - val_Accuracy: 0.3333 - val_precision: 0.3333 - val_recall: 1.0000 - val_auc: 0.3186\n",
      "Epoch 2/15\n",
      "15/15 [==============================] - 1s 81ms/step - loss: 0.6663 - Accuracy: 0.5708 - precision: 0.5626 - recall: 1.0000 - auc: 0.7982 - val_loss: 0.7376 - val_Accuracy: 0.3333 - val_precision: 0.3333 - val_recall: 1.0000 - val_auc: 0.4949\n",
      "Epoch 3/15\n",
      "15/15 [==============================] - 1s 84ms/step - loss: 0.6353 - Accuracy: 0.6375 - precision: 0.6036 - recall: 1.0000 - auc: 0.8896 - val_loss: 0.7658 - val_Accuracy: 0.3333 - val_precision: 0.3333 - val_recall: 1.0000 - val_auc: 0.5941\n",
      "Epoch 4/15\n",
      "15/15 [==============================] - 1s 84ms/step - loss: 0.5812 - Accuracy: 0.7229 - precision: 0.6658 - recall: 1.0000 - auc: 0.9219 - val_loss: 0.8175 - val_Accuracy: 0.3333 - val_precision: 0.3333 - val_recall: 1.0000 - val_auc: 0.6757\n",
      "Epoch 5/15\n",
      "15/15 [==============================] - 1s 87ms/step - loss: 0.4980 - Accuracy: 0.8083 - precision: 0.7423 - recall: 1.0000 - auc: 0.9435 - val_loss: 0.8792 - val_Accuracy: 0.3333 - val_precision: 0.3333 - val_recall: 1.0000 - val_auc: 0.7143\n",
      "Epoch 6/15\n",
      "15/15 [==============================] - 1s 83ms/step - loss: 0.3878 - Accuracy: 0.8604 - precision: 0.7982 - recall: 1.0000 - auc: 0.9614 - val_loss: 0.8638 - val_Accuracy: 0.3333 - val_precision: 0.3333 - val_recall: 1.0000 - val_auc: 0.7421\n",
      "Epoch 7/15\n",
      "15/15 [==============================] - 1s 81ms/step - loss: 0.2919 - Accuracy: 0.9229 - precision: 0.8931 - recall: 0.9774 - auc: 0.9694 - val_loss: 0.8982 - val_Accuracy: 0.4444 - val_precision: 0.3750 - val_recall: 1.0000 - val_auc: 0.7540\n",
      "Epoch 8/15\n",
      "15/15 [==============================] - 1s 88ms/step - loss: 0.2136 - Accuracy: 0.9333 - precision: 0.9003 - recall: 0.9887 - auc: 0.9805 - val_loss: 0.9374 - val_Accuracy: 0.5397 - val_precision: 0.4200 - val_recall: 1.0000 - val_auc: 0.7676\n",
      "Epoch 9/15\n",
      "15/15 [==============================] - 1s 81ms/step - loss: 0.1865 - Accuracy: 0.9500 - precision: 0.9350 - recall: 0.9774 - auc: 0.9814 - val_loss: 0.8602 - val_Accuracy: 0.6349 - val_precision: 0.4773 - val_recall: 1.0000 - val_auc: 0.7823\n",
      "Epoch 10/15\n",
      "15/15 [==============================] - 1s 84ms/step - loss: 0.1559 - Accuracy: 0.9417 - precision: 0.9472 - recall: 0.9472 - auc: 0.9892 - val_loss: 0.8177 - val_Accuracy: 0.6349 - val_precision: 0.4773 - val_recall: 1.0000 - val_auc: 0.7999\n",
      "Epoch 11/15\n",
      "15/15 [==============================] - 1s 89ms/step - loss: 0.1186 - Accuracy: 0.9625 - precision: 0.9427 - recall: 0.9925 - auc: 0.9947 - val_loss: 0.7296 - val_Accuracy: 0.6349 - val_precision: 0.4773 - val_recall: 1.0000 - val_auc: 0.8135\n",
      "Epoch 12/15\n",
      "15/15 [==============================] - 1s 84ms/step - loss: 0.1029 - Accuracy: 0.9729 - precision: 0.9773 - recall: 0.9736 - auc: 0.9961 - val_loss: 0.7543 - val_Accuracy: 0.6349 - val_precision: 0.4773 - val_recall: 1.0000 - val_auc: 0.8277\n",
      "Epoch 13/15\n",
      "15/15 [==============================] - 1s 86ms/step - loss: 0.0804 - Accuracy: 0.9812 - precision: 0.9776 - recall: 0.9887 - auc: 0.9968 - val_loss: 0.5698 - val_Accuracy: 0.6984 - val_precision: 0.5250 - val_recall: 1.0000 - val_auc: 0.8696\n",
      "Epoch 14/15\n",
      "15/15 [==============================] - 1s 87ms/step - loss: 0.0534 - Accuracy: 0.9896 - precision: 0.9851 - recall: 0.9962 - auc: 0.9997 - val_loss: 0.5940 - val_Accuracy: 0.6984 - val_precision: 0.5250 - val_recall: 1.0000 - val_auc: 0.8872\n",
      "Epoch 15/15\n",
      "15/15 [==============================] - 1s 83ms/step - loss: 0.0499 - Accuracy: 0.9896 - precision: 0.9962 - recall: 0.9849 - auc: 0.9991 - val_loss: 0.5645 - val_Accuracy: 0.6984 - val_precision: 0.5250 - val_recall: 1.0000 - val_auc: 0.9042\n",
      "2/2 [==============================] - 0s 38ms/step - loss: 0.5645 - Accuracy: 0.6984 - precision: 0.5250 - recall: 1.0000 - auc: 0.9042       \n",
      "Epoch 1/15\n",
      "15/15 [==============================] - 4s 119ms/step - loss: 0.6901 - Accuracy: 0.5604 - precision: 0.5567 - recall: 1.0000 - auc: 0.5099 - val_loss: 0.6211 - val_Accuracy: 0.6667 - val_precision: 0.0000e+00 - val_recall: 0.0000e+00 - val_auc: 0.6060\n",
      "Epoch 2/15\n",
      "15/15 [==============================] - 1s 84ms/step - loss: 0.6764 - Accuracy: 0.6979 - precision: 0.6987 - recall: 0.7962 - auc: 0.7052 - val_loss: 0.6026 - val_Accuracy: 0.6667 - val_precision: 0.0000e+00 - val_recall: 0.0000e+00 - val_auc: 0.6327\n",
      "Epoch 3/15\n",
      "15/15 [==============================] - 1s 82ms/step - loss: 0.6576 - Accuracy: 0.6875 - precision: 0.6456 - recall: 0.9623 - auc: 0.7448 - val_loss: 0.5808 - val_Accuracy: 0.6667 - val_precision: 0.0000e+00 - val_recall: 0.0000e+00 - val_auc: 0.7715\n",
      "Epoch 4/15\n",
      "15/15 [==============================] - 1s 85ms/step - loss: 0.6252 - Accuracy: 0.7458 - precision: 0.6848 - recall: 1.0000 - auc: 0.8355 - val_loss: 0.5349 - val_Accuracy: 0.6667 - val_precision: 0.0000e+00 - val_recall: 0.0000e+00 - val_auc: 0.9354\n",
      "Epoch 5/15\n",
      "15/15 [==============================] - 1s 88ms/step - loss: 0.5627 - Accuracy: 0.7750 - precision: 0.7105 - recall: 1.0000 - auc: 0.8749 - val_loss: 0.4700 - val_Accuracy: 0.8730 - val_precision: 0.7407 - val_recall: 0.9524 - val_auc: 0.9762\n",
      "Epoch 6/15\n",
      "15/15 [==============================] - 1s 90ms/step - loss: 0.4801 - Accuracy: 0.7812 - precision: 0.7162 - recall: 1.0000 - auc: 0.9056 - val_loss: 0.4028 - val_Accuracy: 0.9683 - val_precision: 0.9524 - val_recall: 0.9524 - val_auc: 0.9762\n",
      "Epoch 7/15\n",
      "15/15 [==============================] - 1s 83ms/step - loss: 0.4104 - Accuracy: 0.8583 - precision: 0.8069 - recall: 0.9774 - auc: 0.9276 - val_loss: 0.3430 - val_Accuracy: 0.9683 - val_precision: 0.9524 - val_recall: 0.9524 - val_auc: 0.9762\n",
      "Epoch 8/15\n",
      "15/15 [==============================] - 1s 81ms/step - loss: 0.3550 - Accuracy: 0.8521 - precision: 0.7887 - recall: 1.0000 - auc: 0.9373 - val_loss: 0.3017 - val_Accuracy: 0.9683 - val_precision: 1.0000 - val_recall: 0.9048 - val_auc: 0.9762\n",
      "Epoch 9/15\n",
      "15/15 [==============================] - 1s 92ms/step - loss: 0.2755 - Accuracy: 0.9312 - precision: 0.8946 - recall: 0.9925 - auc: 0.9852 - val_loss: 0.2344 - val_Accuracy: 0.9841 - val_precision: 1.0000 - val_recall: 0.9524 - val_auc: 0.9768\n",
      "Epoch 10/15\n",
      "15/15 [==============================] - 1s 82ms/step - loss: 0.2379 - Accuracy: 0.9042 - precision: 0.8687 - recall: 0.9736 - auc: 0.9811 - val_loss: 0.2100 - val_Accuracy: 0.9683 - val_precision: 1.0000 - val_recall: 0.9048 - val_auc: 0.9762\n",
      "Epoch 11/15\n",
      "15/15 [==============================] - 1s 82ms/step - loss: 0.1903 - Accuracy: 0.9625 - precision: 0.9660 - recall: 0.9660 - auc: 0.9942 - val_loss: 0.1655 - val_Accuracy: 0.9841 - val_precision: 1.0000 - val_recall: 0.9524 - val_auc: 0.9802\n",
      "Epoch 12/15\n",
      "15/15 [==============================] - 1s 88ms/step - loss: 0.1812 - Accuracy: 0.9417 - precision: 0.9341 - recall: 0.9623 - auc: 0.9861 - val_loss: 0.1732 - val_Accuracy: 0.9683 - val_precision: 1.0000 - val_recall: 0.9048 - val_auc: 0.9773\n",
      "Epoch 13/15\n",
      "15/15 [==============================] - 1s 81ms/step - loss: 0.1644 - Accuracy: 0.9396 - precision: 0.9245 - recall: 0.9698 - auc: 0.9871 - val_loss: 0.1731 - val_Accuracy: 0.9683 - val_precision: 1.0000 - val_recall: 0.9048 - val_auc: 0.9802\n",
      "Epoch 14/15\n",
      "15/15 [==============================] - 1s 84ms/step - loss: 0.1190 - Accuracy: 0.9771 - precision: 0.9847 - recall: 0.9736 - auc: 0.9969 - val_loss: 0.1985 - val_Accuracy: 0.9365 - val_precision: 1.0000 - val_recall: 0.8095 - val_auc: 0.9813\n",
      "Epoch 15/15\n",
      "15/15 [==============================] - 1s 86ms/step - loss: 0.1007 - Accuracy: 0.9729 - precision: 0.9809 - recall: 0.9698 - auc: 0.9967 - val_loss: 0.1897 - val_Accuracy: 0.9365 - val_precision: 1.0000 - val_recall: 0.8095 - val_auc: 0.9830\n",
      "2/2 [==============================] - 0s 31ms/step - loss: 0.1897 - Accuracy: 0.9365 - precision: 1.0000 - recall: 0.8095 - auc: 0.9830       \n"
     ]
    }
   ],
   "source": [
    "gkf=GroupKFold(n_splits=10) #K-fold iterator with 10 fold\n",
    "accuracy=[]\n",
    "precision = []\n",
    "recall=[]\n",
    "AUC=[]\n",
    "F1Score=[]\n",
    "for train_index, val_index in gkf.split(data_array, label_array, groups=group_array):\n",
    "    train_features,train_labels=data_array[train_index],label_array[train_index]\n",
    "    val_features,val_labels=data_array[val_index],label_array[val_index]\n",
    "    scaler=StandardScaler()\n",
    "    train_features = scaler.fit_transform(train_features.reshape(-1, train_features.shape[-1])).reshape(train_features.shape)\n",
    "    val_features = scaler.transform(val_features.reshape(-1, val_features.shape[-1])).reshape(val_features.shape)\n",
    "    model=cnnmodel()\n",
    "    model.fit(train_features,train_labels,epochs=15,batch_size=32,validation_data=(val_features,val_labels))\n",
    "    evaluation_results = model.evaluate(val_features,val_labels)\n",
    "    accuracy.append(evaluation_results[1])\n",
    "    precision.append(evaluation_results[2])\n",
    "    recall.append(evaluation_results[3])\n",
    "    # F1Score.append(evaluation_results[4])\n",
    "    AUC.append(evaluation_results[4])"
   ]
  },
  {
   "cell_type": "code",
   "execution_count": 12,
   "metadata": {},
   "outputs": [
    {
     "name": "stdout",
     "output_type": "stream",
     "text": [
      "0.8124156773090363 0.6524999976158142 0.6457142889499664 0.3887188255786896\n"
     ]
    }
   ],
   "source": [
    "print(np.mean(accuracy),np.mean(precision),np.mean(recall),np.mean(AUC))"
   ]
  },
  {
   "cell_type": "code",
   "execution_count": 13,
   "metadata": {},
   "outputs": [
    {
     "name": "stderr",
     "output_type": "stream",
     "text": [
      "c:\\Users\\rahat\\AppData\\Local\\Programs\\Python\\Python311\\Lib\\site-packages\\keras\\src\\engine\\training.py:3079: UserWarning: You are saving your model as an HDF5 file via `model.save()`. This file format is considered legacy. We recommend using instead the native Keras format, e.g. `model.save('my_model.keras')`.\n",
      "  saving_api.save_model(\n"
     ]
    }
   ],
   "source": [
    "model.save(\"gamma_15s_15epoch_32batch.h5\")"
   ]
  },
  {
   "cell_type": "code",
   "execution_count": null,
   "metadata": {},
   "outputs": [],
   "source": []
  }
 ],
 "metadata": {
  "kernelspec": {
   "display_name": "Python 3",
   "language": "python",
   "name": "python3"
  },
  "language_info": {
   "codemirror_mode": {
    "name": "ipython",
    "version": 3
   },
   "file_extension": ".py",
   "mimetype": "text/x-python",
   "name": "python",
   "nbconvert_exporter": "python",
   "pygments_lexer": "ipython3",
   "version": "3.11.4"
  }
 },
 "nbformat": 4,
 "nbformat_minor": 2
}
