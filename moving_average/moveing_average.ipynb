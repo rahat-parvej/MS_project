{
 "cells": [
  {
   "cell_type": "code",
   "execution_count": 1,
   "metadata": {},
   "outputs": [],
   "source": [
    "import mne\n",
    "from glob import glob\n",
    "from sklearn.preprocessing import StandardScaler\n",
    "import tensorflow as tf\n",
    "import numpy as np\n",
    "from matplotlib import pyplot as plt\n",
    "from sklearn.model_selection import train_test_split\n",
    "from concurrent.futures import ThreadPoolExecutor\n",
    "from tensorflow.keras.layers import Conv1D,BatchNormalization,LeakyReLU,MaxPool1D,\\\n",
    "GlobalAveragePooling1D,Dense,Dropout,AveragePooling1D\n",
    "from tensorflow.keras.models import Sequential\n",
    "from tensorflow.keras.backend import clear_session"
   ]
  },
  {
   "cell_type": "code",
   "execution_count": 2,
   "metadata": {},
   "outputs": [
    {
     "name": "stdout",
     "output_type": "stream",
     "text": [
      "162\n"
     ]
    }
   ],
   "source": [
    "all_files_path=glob('../dataset/data/*.edf')\n",
    "print(len(all_files_path))"
   ]
  },
  {
   "cell_type": "code",
   "execution_count": 3,
   "metadata": {},
   "outputs": [
    {
     "name": "stdout",
     "output_type": "stream",
     "text": [
      "76 86\n"
     ]
    }
   ],
   "source": [
    "healthy_file_path=[i for i in all_files_path if  'H' in i.split('\\\\')[1]]\n",
    "patient_file_path=[i for i in all_files_path if  'M' in i.split('\\\\')[1]]\n",
    "print(len(healthy_file_path),len(patient_file_path))"
   ]
  },
  {
   "cell_type": "code",
   "execution_count": 4,
   "metadata": {},
   "outputs": [],
   "source": [
    "def read_data(file_path):\n",
    "    raw = mne.io.read_raw_edf(file_path, preload=True)\n",
    "    raw.pick_types(meg=False, eeg=True, eog=False, ecg=False) # Selecting EEG, EOG and ECG channels\n",
    "    # Select a specific channel\n",
    "    channel_to_keep = ['EEG Fp1-LE', 'EEG F3-LE', 'EEG C3-LE', 'EEG P3-LE', 'EEG O1-LE', 'EEG F7-LE', 'EEG T3-LE', 'EEG T5-LE', 'EEG Fz-LE', 'EEG Fp2-LE', 'EEG F4-LE', 'EEG C4-LE', 'EEG P4-LE', 'EEG O2-LE', 'EEG F8-LE', 'EEG T4-LE', 'EEG T6-LE', 'EEG Cz-LE', 'EEG Pz-LE', 'EEG A2-A1']  \n",
    "    # Replace with the name of the channel you want to keep\n",
    "    raw.pick_channels(channel_to_keep)\n",
    "    raw.set_eeg_reference()\n",
    "    raw.filter(l_freq=30,h_freq=100)#1-4=delta, 4-8=theta, 8-12=alpha, 12-30=beta, 30-100=gamma\n",
    "    epochs=mne.make_fixed_length_epochs(raw,duration=15,overlap=1)\n",
    "    epochs=epochs.get_data()\n",
    "    scaler = StandardScaler()\n",
    "    data = scaler.fit_transform(epochs.reshape(-1,epochs.shape[-1])).reshape(epochs.shape)\n",
    "\n",
    "    result=[]\n",
    "    for p in range(len(data)):\n",
    "        result_2d = []\n",
    "        for q in range(len(data[p])):\n",
    "            \n",
    "            arr=data[p][q]\n",
    "\n",
    "            window_size = 15\n",
    "            i = 0\n",
    "            # Initialize an empty list to store moving averages\n",
    "            moving_averages = []\n",
    "            \n",
    "            # Loop through the array to consider\n",
    "            # every window of size 3\n",
    "            while i < len(arr) - window_size + 1:\n",
    "            \n",
    "                # Store elements from i to i+window_size\n",
    "                # in list to get the current window\n",
    "                window = arr[i : i + window_size]\n",
    "            \n",
    "                # Calculate the average of current window\n",
    "                window_average = round(sum(window) / window_size, 2)\n",
    "                \n",
    "                # Store the average of current\n",
    "                # window in moving average list\n",
    "                moving_averages.append(window_average)\n",
    "                \n",
    "                # Shift window to right by one position\n",
    "                i += 1\n",
    "            result_2d.append(moving_averages)\n",
    "        result.append(result_2d)\n",
    "    return result"
   ]
  },
  {
   "cell_type": "code",
   "execution_count": 5,
   "metadata": {},
   "outputs": [],
   "source": [
    "%%capture\n",
    "control_epochs_array = [read_data(subject) for subject in healthy_file_path]\n",
    "patients_epochs_array=[read_data(subject) for subject in patient_file_path]\n"
   ]
  },
  {
   "cell_type": "code",
   "execution_count": null,
   "metadata": {},
   "outputs": [],
   "source": [
    "control_epochs_labels=[len(i)*[0] for i in control_epochs_array]\n",
    "patients_epochs_labels=[len(i)*[1] for i in patients_epochs_array]\n",
    "\n",
    "data_list=control_epochs_array+patients_epochs_array\n",
    "label_list=control_epochs_labels+patients_epochs_labels\n",
    "# groups_list=[[i]*len(j) for i, j in enumerate(data_list)]\n",
    "\n",
    "data_array=np.vstack(data_list)\n",
    "label_array=np.hstack(label_list)\n",
    "data_array=np.moveaxis(data_array,1,2)"
   ]
  },
  {
   "cell_type": "code",
   "execution_count": 1,
   "metadata": {},
   "outputs": [
    {
     "ename": "NameError",
     "evalue": "name 'control_epochs_array' is not defined",
     "output_type": "error",
     "traceback": [
      "\u001b[1;31m---------------------------------------------------------------------------\u001b[0m",
      "\u001b[1;31mNameError\u001b[0m                                 Traceback (most recent call last)",
      "Cell \u001b[1;32mIn[1], line 2\u001b[0m\n\u001b[0;32m      1\u001b[0m \u001b[38;5;66;03m# Assuming 'results' is a list containing results for all 76 files\u001b[39;00m\n\u001b[1;32m----> 2\u001b[0m \u001b[38;5;28;01mfor\u001b[39;00m i, result \u001b[38;5;129;01min\u001b[39;00m \u001b[38;5;28menumerate\u001b[39m(\u001b[43mcontrol_epochs_array\u001b[49m):\n\u001b[0;32m      3\u001b[0m     \u001b[38;5;28mprint\u001b[39m(i)\n",
      "\u001b[1;31mNameError\u001b[0m: name 'control_epochs_array' is not defined"
     ]
    }
   ],
   "source": [
    "# Assuming 'results' is a list containing results for all 76 files\n",
    "for i, result in enumerate(control_epochs_array):\n",
    "    print(i)"
   ]
  },
  {
   "cell_type": "code",
   "execution_count": null,
   "metadata": {},
   "outputs": [],
   "source": [
    "# Assuming 'moving_averages' is the list containing the moving averages for a single EEG file\n",
    "def plot_moving_averages(moving_averages):\n",
    "    num_windows = len(moving_averages)  # Number of windows\n",
    "    \n",
    "    plt.figure(figsize=(10, 5))\n",
    "    \n",
    "    for i in range(num_windows):\n",
    "        plt.plot(moving_averages[i], label=f'Window {i+1}')\n",
    "    \n",
    "    plt.title('Moving Averages Plot')\n",
    "    plt.xlabel('Time')\n",
    "    plt.ylabel('Moving Average')\n",
    "    plt.legend()\n",
    "    plt.show()\n",
    "\n",
    "# Call the plotting function with the list of moving averages\n",
    "plot_moving_averages(moving_averages)"
   ]
  },
  {
   "cell_type": "code",
   "execution_count": 20,
   "metadata": {},
   "outputs": [
    {
     "ename": "AttributeError",
     "evalue": "'list' object has no attribute 'shape'",
     "output_type": "error",
     "traceback": [
      "\u001b[1;31m---------------------------------------------------------------------------\u001b[0m",
      "\u001b[1;31mAttributeError\u001b[0m                            Traceback (most recent call last)",
      "Cell \u001b[1;32mIn[20], line 1\u001b[0m\n\u001b[1;32m----> 1\u001b[0m \u001b[43mcontrol_epochs_array\u001b[49m\u001b[43m[\u001b[49m\u001b[38;5;241;43m0\u001b[39;49m\u001b[43m]\u001b[49m\u001b[38;5;241;43m.\u001b[39;49m\u001b[43mshape\u001b[49m\n",
      "\u001b[1;31mAttributeError\u001b[0m: 'list' object has no attribute 'shape'"
     ]
    }
   ],
   "source": [
    "control_epochs_array[0]"
   ]
  },
  {
   "cell_type": "code",
   "execution_count": null,
   "metadata": {},
   "outputs": [],
   "source": [
    "import matplotlib.pyplot as plt\n",
    "\n",
    "def plot_data_after_moving_average(result, file_name):\n",
    "    num_channels = len(result[0])  # Number of channels\n",
    "    num_windows = len(result)      # Number of windows\n",
    "    \n",
    "    fig, axs = plt.subplots(num_channels, 1, figsize=(10, 5*num_channels))\n",
    "    \n",
    "    for i in range(num_channels):\n",
    "        axs[i].set_title(f'Channel {i+1}')\n",
    "        axs[i].set_xlabel('Time')\n",
    "        axs[i].set_ylabel('Moving Average')\n",
    "        \n",
    "        # Plot moving averages for each window in the channel\n",
    "        for j in range(num_windows):\n",
    "            axs[i].plot(result[j][i], label=f'Window {j+1}')\n",
    "        \n",
    "        axs[i].legend()\n",
    "    \n",
    "    plt.tight_layout()\n",
    "    plt.savefig(f'{file_name}.pdf')  # Save the figure to PDF\n",
    "    plt.close()  # Close the figure to release memory\n",
    "\n",
    "# Assuming 'results' is a list containing results for all 76 files\n",
    "for i, result in enumerate(control_epochs_array):\n",
    "    file_name = f'figures/Figure_{i+1}'  # Generate a file name\n",
    "    plot_data_after_moving_average(result, file_name)"
   ]
  },
  {
   "cell_type": "code",
   "execution_count": null,
   "metadata": {},
   "outputs": [],
   "source": [
    "def cnnmodel():\n",
    "    clear_session()\n",
    "    model=Sequential()\n",
    "    model.add(Conv1D(filters=5,kernel_size=3,strides=1,input_shape=(3840,20)))#1\n",
    "    model.add(BatchNormalization())\n",
    "    model.add(LeakyReLU())\n",
    "    model.add(MaxPool1D(pool_size=2,strides=2))#2\n",
    "    model.add(Conv1D(filters=5,kernel_size=3,strides=1))#3\n",
    "    model.add(LeakyReLU())\n",
    "    model.add(MaxPool1D(pool_size=2,strides=2))#4\n",
    "    model.add(Dropout(0.5))\n",
    "    model.add(Conv1D(filters=5,kernel_size=3,strides=1))#5\n",
    "    model.add(LeakyReLU())\n",
    "    model.add(AveragePooling1D(pool_size=2,strides=2))#6\n",
    "    model.add(Dropout(0.5))\n",
    "    model.add(Conv1D(filters=5,kernel_size=3,strides=1))#7\n",
    "    model.add(LeakyReLU())\n",
    "    model.add(AveragePooling1D(pool_size=2,strides=2))#8\n",
    "    model.add(Conv1D(filters=5,kernel_size=3,strides=1))#9\n",
    "    model.add(LeakyReLU())\n",
    "    model.add(GlobalAveragePooling1D())#10\n",
    "    model.add(Dense(1,activation='sigmoid'))#11\n",
    "    \n",
    "    model.compile('adam',loss='binary_crossentropy',metrics=['Accuracy', 'Precision', 'Recall','AUC'])\n",
    "    return model\n",
    "\n",
    "model=cnnmodel()\n",
    "model.summary()"
   ]
  },
  {
   "cell_type": "code",
   "execution_count": null,
   "metadata": {},
   "outputs": [],
   "source": []
  },
  {
   "cell_type": "code",
   "execution_count": null,
   "metadata": {},
   "outputs": [],
   "source": []
  },
  {
   "cell_type": "code",
   "execution_count": null,
   "metadata": {},
   "outputs": [],
   "source": []
  },
  {
   "cell_type": "code",
   "execution_count": null,
   "metadata": {},
   "outputs": [],
   "source": []
  },
  {
   "cell_type": "code",
   "execution_count": null,
   "metadata": {},
   "outputs": [],
   "source": [
    "print(data.shape)"
   ]
  },
  {
   "cell_type": "code",
   "execution_count": null,
   "metadata": {},
   "outputs": [],
   "source": [
    "print(data[0][0])"
   ]
  },
  {
   "cell_type": "code",
   "execution_count": null,
   "metadata": {},
   "outputs": [],
   "source": [
    "result=[]\n",
    "for p in range(len(data)):\n",
    "    result_2d = []\n",
    "    for q in range(len(data[p])):\n",
    "        \n",
    "        arr=data[p][q]\n",
    "\n",
    "        window_size = 15\n",
    "        i = 0\n",
    "        # Initialize an empty list to store moving averages\n",
    "        moving_averages = []\n",
    "        \n",
    "        # Loop through the array to consider\n",
    "        # every window of size 3\n",
    "        while i < len(arr) - window_size + 1:\n",
    "        \n",
    "            # Store elements from i to i+window_size\n",
    "            # in list to get the current window\n",
    "            window = arr[i : i + window_size]\n",
    "        \n",
    "            # Calculate the average of current window\n",
    "            window_average = round(sum(window) / window_size, 2)\n",
    "            \n",
    "            # Store the average of current\n",
    "            # window in moving average list\n",
    "            moving_averages.append(window_average)\n",
    "            \n",
    "            # Shift window to right by one position\n",
    "            i += 1\n",
    "        result_2d.append(moving_averages)\n",
    "    result.append(result_2d)"
   ]
  },
  {
   "cell_type": "code",
   "execution_count": null,
   "metadata": {},
   "outputs": [],
   "source": [
    "len(result[0][0])"
   ]
  },
  {
   "cell_type": "code",
   "execution_count": null,
   "metadata": {},
   "outputs": [],
   "source": [
    "smoothed_data"
   ]
  },
  {
   "cell_type": "code",
   "execution_count": null,
   "metadata": {},
   "outputs": [],
   "source": [
    "# Plotting\n",
    "plt.figure(figsize=(10, 6))\n",
    "plt.plot(data[0,0], label='Original Data')\n",
    "plt.plot(smoothed_data[0,0], label='Moving Average', linestyle='--')\n",
    "plt.xlabel('Time')\n",
    "plt.ylabel('EEG Amplitude')\n",
    "plt.title('Original Data vs. Moving Average')\n",
    "plt.legend()\n",
    "plt.show()"
   ]
  }
 ],
 "metadata": {
  "kernelspec": {
   "display_name": "Python 3",
   "language": "python",
   "name": "python3"
  },
  "language_info": {
   "codemirror_mode": {
    "name": "ipython",
    "version": 3
   },
   "file_extension": ".py",
   "mimetype": "text/x-python",
   "name": "python",
   "nbconvert_exporter": "python",
   "pygments_lexer": "ipython3",
   "version": "3.11.4"
  }
 },
 "nbformat": 4,
 "nbformat_minor": 2
}
